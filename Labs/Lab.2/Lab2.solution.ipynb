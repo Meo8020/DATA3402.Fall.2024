{
 "cells": [
  {
   "cell_type": "markdown",
   "metadata": {},
   "source": [
    "## Lab 2- Tic Tac Toe\n",
    "\n",
    "In this lab your will build a n x n Tic Tac Toe game. As you do the exercises, make sure your solutions work for any size Tic Tac Toe game. "
   ]
  },
  {
   "cell_type": "markdown",
   "metadata": {},
   "source": [
    "*Exercise 1:* Write a function that creates an n by n matrix (of list of lists) which will represent the state of a Tie Tac Toe game. Let 0, 1, and 2 represent empty, \"X\", and \"O\", respectively.\n"
   ]
  },
  {
   "cell_type": "code",
   "execution_count": 1,
   "metadata": {},
   "outputs": [],
   "source": [
    "# Write your solution here\n",
    "player1 = 1\n",
    "player2 = 2\n",
    "empty = 0\n",
    "size=3\n",
    "\n",
    "board=list()\n",
    "for i in range(size):\n",
    "    row=list()\n",
    "    for j in range(size):\n",
    "        row.append(empty)\n",
    "        \n",
    "    board.append(row)"
   ]
  },
  {
   "cell_type": "code",
   "execution_count": 2,
   "metadata": {},
   "outputs": [
    {
     "data": {
      "text/plain": [
       "[[0, 0, 0], [0, 0, 0], [0, 0, 0]]"
      ]
     },
     "execution_count": 2,
     "metadata": {},
     "output_type": "execute_result"
    }
   ],
   "source": [
    "# Test your solution here\n",
    "board"
   ]
  },
  {
   "cell_type": "markdown",
   "metadata": {},
   "source": [
    "*Exercise 2:* Write a function that takes 2 integers `n` and `m` as input and draws a `n` by `m` game board. For example the following is a 3x3 board:\n",
    "```\n",
    "   --- --- --- \n",
    "  |   |   |   | \n",
    "   --- --- ---  \n",
    "  |   |   |   | \n",
    "   --- --- ---  \n",
    "  |   |   |   | \n",
    "   --- --- --- \n",
    "   ```"
   ]
  },
  {
   "cell_type": "code",
   "execution_count": 3,
   "metadata": {},
   "outputs": [
    {
     "data": {
      "text/plain": [
       "[[0, 0, 0], [0, 0, 0], [0, 0, 0]]"
      ]
     },
     "execution_count": 3,
     "metadata": {},
     "output_type": "execute_result"
    }
   ],
   "source": [
    "def create_board(n, m):\n",
    "#n rows\n",
    "#m columns\n",
    "    return [[0 for _ in range(m)] for _ in range(n)]\n",
    "create_board(3, 3)"
   ]
  },
  {
   "cell_type": "code",
   "execution_count": 4,
   "metadata": {},
   "outputs": [
    {
     "name": "stdout",
     "output_type": "stream",
     "text": [
      "[0, 0, 0]\n",
      "[0, 0, 0]\n",
      "[0, 0, 0]\n"
     ]
    }
   ],
   "source": [
    "# Test your solution here\n",
    "for row in board:\n",
    "    print(row)"
   ]
  },
  {
   "cell_type": "markdown",
   "metadata": {},
   "source": [
    "*Exercise 3:* Modify exercise 2, so that it takes a matrix of the form from exercise 1 and draws a tic-tac-tie board with \"X\"s and \"O\"s.  "
   ]
  },
  {
   "cell_type": "code",
   "execution_count": 5,
   "metadata": {},
   "outputs": [],
   "source": [
    "def draw_ttt_board(board):\n",
    "    piece_map = {0: \" \", 1: \"X\", 2: \"O\"}\n",
    "    #iterate over the board and print grid\n",
    "    for i, row in enumerate(board):\n",
    "      row_display = []\n",
    "      for j, column in enumerate(row):\n",
    "        row_display.append(piece_map[column])\n",
    "      print(\" | \".join(row_display))\n",
    "      if i != len(board) - 1:\n",
    "        print(\"--------\")\n",
    "\n",
    "create_board(3,3)\n",
    "#by index\n",
    "board[0][0] = 1\n",
    "board[1][1] = 2"
   ]
  },
  {
   "cell_type": "code",
   "execution_count": 6,
   "metadata": {},
   "outputs": [
    {
     "name": "stdout",
     "output_type": "stream",
     "text": [
      "X |   |  \n",
      "--------\n",
      "  | O |  \n",
      "--------\n",
      "  |   |  \n"
     ]
    }
   ],
   "source": [
    "# Test your solution here\n",
    "draw_ttt_board(board)"
   ]
  },
  {
   "cell_type": "markdown",
   "metadata": {},
   "source": [
    "*Exercise 4:* Write a function that takes a `n` by `n` matrix representing a tic-tac-toe game, and returns -1, 0, 1, or 2 indicating the game is incomplete, the game is a draw, player 1 has won, or player 2 has one, respectively. Here are some example inputs you can use to test your code:"
   ]
  },
  {
   "cell_type": "code",
   "execution_count": 7,
   "metadata": {},
   "outputs": [],
   "source": [
    "def check_ttt_winner(board):\n",
    "  n=len(board)\n",
    "  for i in range(n):\n",
    "    if all(board[i][j]== 1 for j in range(n)):\n",
    "      return 1\n",
    "    if all(board[i][j]== 2 for j in range(n)):\n",
    "      return 2\n",
    "    if all(board[j][i]== 1 for j in range(n)):\n",
    "      return 1\n",
    "    if all(board[j][i]== 2 for j in range(n)):\n",
    "      return 2\n",
    "  #check diagonals\n",
    "  if all(board[i][i]==1 for i in range(n)):\n",
    "    return 1\n",
    "  if all(board[i][i] == 2 for i in range(n)):\n",
    "    return 2\n",
    "  if all(board[i][n-i-1] == 1 for i in range(n)):  # Anti-diagonal for player 1\n",
    "        return 1\n",
    "  if all(board[i][n-i-1] == 2 for i in range(n)):  # Anti-diagonal for player 2\n",
    "        return 2\n",
    "#check for an incomplete game\n",
    "  if any(board[i][j] == 0 for i in range(n) for j in range(n)):\n",
    "        return -1  # incomplete game\n",
    "  # It's a draw if there is no winner\n",
    "  return 0\n"
   ]
  },
  {
   "cell_type": "code",
   "execution_count": 8,
   "metadata": {},
   "outputs": [],
   "source": [
    "winner_is_2 = [[2, 2, 0],\n",
    "\t[2, 1, 0],\n",
    "\t[2, 1, 1]]\n",
    "\n",
    "winner_is_1 = [[1, 2, 0],\n",
    "\t[2, 1, 0],\n",
    "\t[2, 1, 1]]\n",
    "\n",
    "winner_is_also_1 = [[0, 1, 0],\n",
    "\t[2, 1, 0],\n",
    "\t[2, 1, 1]]\n",
    "\n",
    "no_winner = [[1, 2, 0],\n",
    "\t[2, 1, 0],\n",
    "\t[2, 1, 2]]\n",
    "\n",
    "also_no_winner = [[1, 2, 0],\n",
    "\t[2, 1, 0],\n",
    "\t[2, 1, 0]]"
   ]
  },
  {
   "cell_type": "code",
   "execution_count": 9,
   "metadata": {},
   "outputs": [
    {
     "name": "stdout",
     "output_type": "stream",
     "text": [
      "2\n",
      "1\n",
      "1\n",
      "-1\n",
      "-1\n"
     ]
    }
   ],
   "source": [
    "# Testing the function\n",
    "print(check_ttt_winner(winner_is_2)) #column win\n",
    "print(check_ttt_winner(winner_is_1)) #diagonal\n",
    "print(check_ttt_winner(winner_is_also_1)) #column win\n",
    "print(check_ttt_winner(no_winner)) \n",
    "print(check_ttt_winner(also_no_winner))"
   ]
  },
  {
   "cell_type": "markdown",
   "metadata": {},
   "source": [
    "*Exercise 5:* Write a function that takes a game board, player number, and `(x,y)` coordinates and places \"X\" or \"O\" in the correct location of the game board. Make sure that you only allow filling previously empty locations. Return `True` or `False` to indicate successful placement of \"X\" or \"O\"."
   ]
  },
  {
   "cell_type": "code",
   "execution_count": 10,
   "metadata": {},
   "outputs": [],
   "source": [
    "def placing_piece(board,player,x,y):\n",
    "  n=len(board)\n",
    "  if 0 <= x < n and 0 <= y < n:\n",
    "    if board[x][y] == 0:\n",
    "      board[x][y] = player #places 'X' (1) or 'O' as (2)\n",
    "      return True\n",
    "    else:\n",
    "      return False #spot is already taken\n",
    "  else:\n",
    "    return False #invalid coordinates\n",
    "board=[\n",
    "    [1,2,0],\n",
    "    [0,1,0],\n",
    "    [2,0,0]\n",
    "]\n",
    "x_place= placing_piece(board,1,2,1) #board,player,x,y\n",
    "o_place= placing_piece(board,2,0,2)\n",
    "invalid_place= placing_piece(board,2,0,0)"
   ]
  },
  {
   "cell_type": "code",
   "execution_count": 11,
   "metadata": {},
   "outputs": [
    {
     "name": "stdout",
     "output_type": "stream",
     "text": [
      "[[1, 2, 2], [0, 1, 0], [2, 1, 0]]\n",
      "True\n",
      "True\n",
      "False\n"
     ]
    }
   ],
   "source": [
    "print(board)\n",
    "print(x_place) # successful placement of \"X\n",
    "print(o_place) # successful placement of \"O\"\n",
    "print(invalid_place) \n"
   ]
  },
  {
   "cell_type": "markdown",
   "metadata": {},
   "source": [
    "*Exercise 6:* Modify Exercise 4 to show column and row labels so that players can specify location using \"A2\" or \"C1\"."
   ]
  },
  {
   "cell_type": "code",
   "execution_count": 12,
   "metadata": {},
   "outputs": [
    {
     "name": "stdout",
     "output_type": "stream",
     "text": [
      "X | O | O\n",
      "--------\n",
      "  | X |  \n",
      "--------\n",
      "O | X |  \n"
     ]
    }
   ],
   "source": [
    "def placing_piecelabels(board,player,position):\n",
    "  #How can I convert row and column indices into a position?\n",
    "  try:\n",
    "    row = ord(position[0].upper()) - ord('A')  # Convert 'A' -> 0, 'B' -> 1, etc.\n",
    "    col = int(position[1]) - 1  # Convert '1' -> 0, '2' -> 1, etc.\n",
    "  except (IndexError, ValueError):\n",
    "    return False  # Invalid position format\n",
    "  \n",
    "  n=len(board)\n",
    "\n",
    "#coordinate check\n",
    "  if 0 <= row < n and 0 <= col < n:\n",
    "    if board[row][col] == 0:\n",
    "        board[row][col] = player\n",
    "        return True #placing 'X' as p1 and 'O' as p2\n",
    "    else:\n",
    "      return False #spot taken\n",
    "  else:\n",
    "    return False #invalid coordinates\n",
    "draw_ttt_board(board)"
   ]
  },
  {
   "cell_type": "code",
   "execution_count": 13,
   "metadata": {},
   "outputs": [
    {
     "data": {
      "text/plain": [
       "True"
      ]
     },
     "execution_count": 13,
     "metadata": {},
     "output_type": "execute_result"
    }
   ],
   "source": [
    "placing_piecelabels(board, 2, \"C3\")  # Player 2 places \"O\" at C3"
   ]
  },
  {
   "cell_type": "code",
   "execution_count": 14,
   "metadata": {},
   "outputs": [
    {
     "name": "stdout",
     "output_type": "stream",
     "text": [
      "X | O | O\n",
      "--------\n",
      "  | X |  \n",
      "--------\n",
      "O | X | O\n"
     ]
    }
   ],
   "source": [
    "draw_ttt_board(board)"
   ]
  },
  {
   "cell_type": "code",
   "execution_count": 15,
   "metadata": {},
   "outputs": [
    {
     "data": {
      "text/plain": [
       "True"
      ]
     },
     "execution_count": 15,
     "metadata": {},
     "output_type": "execute_result"
    }
   ],
   "source": [
    "placing_piecelabels(board, 1, \"B1\")  # Player 1 places \"X\" at B1"
   ]
  },
  {
   "cell_type": "code",
   "execution_count": 16,
   "metadata": {},
   "outputs": [
    {
     "name": "stdout",
     "output_type": "stream",
     "text": [
      "X | O | O\n",
      "--------\n",
      "X | X |  \n",
      "--------\n",
      "O | X | O\n"
     ]
    }
   ],
   "source": [
    "draw_ttt_board(board)"
   ]
  },
  {
   "cell_type": "code",
   "execution_count": 17,
   "metadata": {},
   "outputs": [
    {
     "name": "stdout",
     "output_type": "stream",
     "text": [
      "Game is still incomplete.\n"
     ]
    }
   ],
   "source": [
    "result = check_ttt_winner(board)\n",
    "if result == 1:\n",
    "    print(\"Player 1 (X) wins!\")\n",
    "elif result == 2:\n",
    "    print(\"Player 2 (O) wins!\")\n",
    "elif result == 0:\n",
    "    print(\"It's a draw!\")\n",
    "else:\n",
    "    print(\"Game is still incomplete.\")"
   ]
  },
  {
   "cell_type": "markdown",
   "metadata": {},
   "source": [
    "*Exercise 7:* Write a function that takes a board, player number, and location specified as in exercise 6 and then calls exercise 5 to correctly modify the board.  "
   ]
  },
  {
   "cell_type": "code",
   "execution_count": 18,
   "metadata": {},
   "outputs": [],
   "source": [
    "# Write your solution here\n",
    "def modify_board(board, player, position):\n",
    "  try:\n",
    "    row = ord(position[0].upper()) - ord('A')  \n",
    "    col = int(position[1:]) - 1  \n",
    "  except (IndexError, ValueError):\n",
    "        return False  # Invalid pos\n",
    "    \n",
    "  n = len(board)\n",
    "    \n",
    "    # Check if the coordinates are within bounds\n",
    "  if 0 <= row < n and 0 <= col < n:\n",
    "        # Check if the spot is empty (0 indicates an empty spot)\n",
    "        if board[row][col] == 0:\n",
    "            board[row][col] = player  # Place the player's piece (1 for 'X', 2 for 'O')\n",
    "            return True\n",
    "        else:\n",
    "            return False  # Spot is already taken\n",
    "  else:\n",
    "        return False  # Coordinates are out of bounds\n",
    "def print_board(board):\n",
    "    for row in board:\n",
    "        print(row) \n",
    "# New board\n",
    "board = [[0, 0, 0], \n",
    "         [0, 0, 0], \n",
    "         [0, 0, 0]]"
   ]
  },
  {
   "cell_type": "code",
   "execution_count": 19,
   "metadata": {},
   "outputs": [
    {
     "name": "stdout",
     "output_type": "stream",
     "text": [
      "[1, 0, 0]\n",
      "[0, 0, 0]\n",
      "[0, 0, 0]\n",
      "\n",
      "[1, 0, 0]\n",
      "[0, 2, 0]\n",
      "[0, 0, 0]\n",
      "\n"
     ]
    }
   ],
   "source": [
    "# Test your solution here\n",
    "# Player 1 places an 'X' at position A1\n",
    "modify_board(board, 1, \"A1\")\n",
    "print_board(board) \n",
    "\n",
    "print() # This space is to separate the matrices #####################\n",
    "\n",
    "# Player 2 places an 'O' at position B2\n",
    "modify_board(board, 2, \"B2\")\n",
    "print_board(board) \n",
    "\n",
    "print() "
   ]
  },
  {
   "cell_type": "markdown",
   "metadata": {},
   "source": [
    "*Exercise 8:* Write a function is called with a board and player number, takes input from the player using python's `input`, and modifies the board using your function from exercise 7. Note that you should keep asking for input until you have gotten a valid input that results in a valid move."
   ]
  },
  {
   "cell_type": "code",
   "execution_count": 20,
   "metadata": {},
   "outputs": [],
   "source": [
    "# Write you solution here\n",
    "def moves (board,player):\n",
    "  while True:\n",
    "    position = input(f\"Player {player}, enter your move: \")\n",
    "\n",
    "    if modify_board(board,player,position):\n",
    "      print(f\"Player {player} placed at {position}.\")\n",
    "      print_board(board) \n",
    "      break\n",
    "                                         \n",
    "    else:\n",
    "      print(\"Invalid move, please try again!\")\n",
    "        "
   ]
  },
  {
   "cell_type": "code",
   "execution_count": 21,
   "metadata": {},
   "outputs": [
    {
     "name": "stdin",
     "output_type": "stream",
     "text": [
      "Player 1, enter your move:  C3\n"
     ]
    },
    {
     "name": "stdout",
     "output_type": "stream",
     "text": [
      "Player 1 placed at C3.\n",
      "[0, 0, 0]\n",
      "[0, 0, 0]\n",
      "[0, 0, 1]\n"
     ]
    }
   ],
   "source": [
    "# Test your solution here\n",
    "board = [[0, 0, 0], \n",
    "         [0, 0, 0], \n",
    "         [0, 0, 0]]\n",
    "\n",
    "# Player 1 makes a move\n",
    "moves(board, 1)  # Will keep asking until a valid move is entered"
   ]
  },
  {
   "cell_type": "code",
   "execution_count": 22,
   "metadata": {},
   "outputs": [
    {
     "name": "stdin",
     "output_type": "stream",
     "text": [
      "Player 2, enter your move:  B2\n"
     ]
    },
    {
     "name": "stdout",
     "output_type": "stream",
     "text": [
      "Player 2 placed at B2.\n",
      "[0, 0, 0]\n",
      "[0, 2, 0]\n",
      "[0, 0, 1]\n"
     ]
    }
   ],
   "source": [
    "moves(board, 2)"
   ]
  },
  {
   "cell_type": "markdown",
   "metadata": {},
   "source": [
    "*Exercise 9:* Use all of the previous exercises to implement a full tic-tac-toe game, where an appropriate board is drawn, 2 players are repeatedly asked for a location coordinates of where they wish to place a mark, and the game status is checked until a player wins or a draw occurs."
   ]
  },
  {
   "cell_type": "code",
   "execution_count": 23,
   "metadata": {},
   "outputs": [],
   "source": [
    "# Write you solution here\n",
    "def initialize_board(size):  # board for any given size\n",
    "    return [[0 for _ in range(size)] for _ in range(size)]\n",
    "    \n",
    "def print_board(board):\n",
    "    size = len(board)\n",
    "    # column numbers\n",
    "    print(\"   \" + \" \".join([str(i + 1) for i in range(size)]))\n",
    "    # separator line\n",
    "    print(\"  \" + \"-\" * (size * 2))\n",
    "    # Print each row with the row letters and the board content\n",
    "    for i, row in enumerate(board):\n",
    "        row_letter = chr(ord('A') + i)  # Convert row index to letter\n",
    "        row_content = \" \".join(['X' if cell == 1 else 'O' if cell == 2 else ' ' for cell in row])\n",
    "        print(f\"{row_letter} {row_content}\")\n",
    "\n",
    "def modify_board(board, player, position):\n",
    "    try: \n",
    "        row = ord(position[0].upper()) - ord('A')\n",
    "        col = int(position[1:]) - 1\n",
    "    except (IndexError, ValueError):\n",
    "        return False  \n",
    "    n = len(board)\n",
    "    if 0 <= row < n and 0 <= col < n:\n",
    "        if board[row][col] == 0:\n",
    "            board[row][col] = player  # Place the player's piece (1 for 'X', 2 for 'O')\n",
    "            return True\n",
    "        else:\n",
    "            return False  # Spot taken\n",
    "    else:\n",
    "        return False\n",
    "\n",
    "def moves(board, player):\n",
    "    while True:\n",
    "        position = input(f\"Player {player}, enter a move: \")\n",
    "        if modify_board(board, player, position):\n",
    "            print(f\"Player {player} placed at {position}.\")\n",
    "            print_board(board)\n",
    "            break\n",
    "        else:\n",
    "            print(\"Invalid move, please try again!\")\n",
    "\n",
    "def check_winner(board, player):\n",
    "    n = len(board)\n",
    "    for i in range(n):\n",
    "        # Check row\n",
    "        if all([cell == player for cell in board[i]]):\n",
    "            return True\n",
    "        # Check column\n",
    "        if all([board[j][i] == player for j in range(n)]):\n",
    "            return True\n",
    "    \n",
    "    # Check diagonals\n",
    "    if all([board[i][i] == player for i in range(n)]):\n",
    "        return True\n",
    "    if all([board[i][n-i-1] == player for i in range(n)]):\n",
    "        return True\n",
    "    \n",
    "    return False\n",
    "\n",
    "def check_draw(board):\n",
    "    return all([cell != 0 for row in board for cell in row])  # Check if all cells are filled\n",
    "\n",
    "def tic_tac_toe():\n",
    "\n",
    "    size = int(input(\"Enter the size of the board: \"))\n",
    "    board = initialize_board(size)\n",
    "    \n",
    "    # Set the current player (1 for 'X', 2 for 'O')\n",
    "    current_player = 1\n",
    "    \n",
    "    # Loop until there is a winner or a draw\n",
    "    while True:\n",
    "        # Player makes a move\n",
    "        moves(board, current_player)\n",
    "        \n",
    "        # Check if the current player has won\n",
    "        if check_winner(board, current_player):\n",
    "            print(f\"Player {current_player} wins!\")\n",
    "            break\n",
    "        \n",
    "        # Check if game is a draw\n",
    "        if check_draw(board):\n",
    "            print(\"It's a draw!\")\n",
    "            break\n",
    "        \n",
    "        # Switching players (after p1, p2 plays..)\n",
    "        current_player = 2 if current_player == 1 else 1\n"
   ]
  },
  {
   "cell_type": "code",
   "execution_count": 24,
   "metadata": {},
   "outputs": [
    {
     "name": "stdin",
     "output_type": "stream",
     "text": [
      "Enter the size of the board:  3\n",
      "Player 1, enter a move:  B2\n"
     ]
    },
    {
     "name": "stdout",
     "output_type": "stream",
     "text": [
      "Player 1 placed at B2.\n",
      "   1 2 3\n",
      "  ------\n",
      "A      \n",
      "B   X  \n",
      "C      \n"
     ]
    },
    {
     "name": "stdin",
     "output_type": "stream",
     "text": [
      "Player 2, enter a move:  C3\n"
     ]
    },
    {
     "name": "stdout",
     "output_type": "stream",
     "text": [
      "Player 2 placed at C3.\n",
      "   1 2 3\n",
      "  ------\n",
      "A      \n",
      "B   X  \n",
      "C     O\n"
     ]
    },
    {
     "name": "stdin",
     "output_type": "stream",
     "text": [
      "Player 1, enter a move:  A3\n"
     ]
    },
    {
     "name": "stdout",
     "output_type": "stream",
     "text": [
      "Player 1 placed at A3.\n",
      "   1 2 3\n",
      "  ------\n",
      "A     X\n",
      "B   X  \n",
      "C     O\n"
     ]
    },
    {
     "name": "stdin",
     "output_type": "stream",
     "text": [
      "Player 2, enter a move:  A1\n"
     ]
    },
    {
     "name": "stdout",
     "output_type": "stream",
     "text": [
      "Player 2 placed at A1.\n",
      "   1 2 3\n",
      "  ------\n",
      "A O   X\n",
      "B   X  \n",
      "C     O\n"
     ]
    },
    {
     "name": "stdin",
     "output_type": "stream",
     "text": [
      "Player 1, enter a move:  C1\n"
     ]
    },
    {
     "name": "stdout",
     "output_type": "stream",
     "text": [
      "Player 1 placed at C1.\n",
      "   1 2 3\n",
      "  ------\n",
      "A O   X\n",
      "B   X  \n",
      "C X   O\n",
      "Player 1 wins!\n"
     ]
    }
   ],
   "source": [
    "# Test your solution here\n",
    "tic_tac_toe()"
   ]
  },
  {
   "cell_type": "markdown",
   "metadata": {},
   "source": [
    "*Exercise 10:* Test that your game works for 5x5 Tic Tac Toe.  "
   ]
  },
  {
   "cell_type": "code",
   "execution_count": 25,
   "metadata": {},
   "outputs": [
    {
     "name": "stdin",
     "output_type": "stream",
     "text": [
      "Enter the size of the board:  5\n",
      "Player 1, enter a move:  A1\n"
     ]
    },
    {
     "name": "stdout",
     "output_type": "stream",
     "text": [
      "Player 1 placed at A1.\n",
      "   1 2 3 4 5\n",
      "  ----------\n",
      "A X        \n",
      "B          \n",
      "C          \n",
      "D          \n",
      "E          \n"
     ]
    },
    {
     "name": "stdin",
     "output_type": "stream",
     "text": [
      "Player 2, enter a move:  C5\n"
     ]
    },
    {
     "name": "stdout",
     "output_type": "stream",
     "text": [
      "Player 2 placed at C5.\n",
      "   1 2 3 4 5\n",
      "  ----------\n",
      "A X        \n",
      "B          \n",
      "C         O\n",
      "D          \n",
      "E          \n"
     ]
    },
    {
     "name": "stdin",
     "output_type": "stream",
     "text": [
      "Player 1, enter a move:  B1\n"
     ]
    },
    {
     "name": "stdout",
     "output_type": "stream",
     "text": [
      "Player 1 placed at B1.\n",
      "   1 2 3 4 5\n",
      "  ----------\n",
      "A X        \n",
      "B X        \n",
      "C         O\n",
      "D          \n",
      "E          \n"
     ]
    },
    {
     "name": "stdin",
     "output_type": "stream",
     "text": [
      "Player 2, enter a move:  E5\n"
     ]
    },
    {
     "name": "stdout",
     "output_type": "stream",
     "text": [
      "Player 2 placed at E5.\n",
      "   1 2 3 4 5\n",
      "  ----------\n",
      "A X        \n",
      "B X        \n",
      "C         O\n",
      "D          \n",
      "E         O\n"
     ]
    },
    {
     "name": "stdin",
     "output_type": "stream",
     "text": [
      "Player 1, enter a move:  C1\n"
     ]
    },
    {
     "name": "stdout",
     "output_type": "stream",
     "text": [
      "Player 1 placed at C1.\n",
      "   1 2 3 4 5\n",
      "  ----------\n",
      "A X        \n",
      "B X        \n",
      "C X       O\n",
      "D          \n",
      "E         O\n"
     ]
    },
    {
     "name": "stdin",
     "output_type": "stream",
     "text": [
      "Player 2, enter a move:  D1\n"
     ]
    },
    {
     "name": "stdout",
     "output_type": "stream",
     "text": [
      "Player 2 placed at D1.\n",
      "   1 2 3 4 5\n",
      "  ----------\n",
      "A X        \n",
      "B X        \n",
      "C X       O\n",
      "D O        \n",
      "E         O\n"
     ]
    },
    {
     "name": "stdin",
     "output_type": "stream",
     "text": [
      "Player 1, enter a move:  A5\n"
     ]
    },
    {
     "name": "stdout",
     "output_type": "stream",
     "text": [
      "Player 1 placed at A5.\n",
      "   1 2 3 4 5\n",
      "  ----------\n",
      "A X       X\n",
      "B X        \n",
      "C X       O\n",
      "D O        \n",
      "E         O\n"
     ]
    },
    {
     "name": "stdin",
     "output_type": "stream",
     "text": [
      "Player 2, enter a move:  E4\n"
     ]
    },
    {
     "name": "stdout",
     "output_type": "stream",
     "text": [
      "Player 2 placed at E4.\n",
      "   1 2 3 4 5\n",
      "  ----------\n",
      "A X       X\n",
      "B X        \n",
      "C X       O\n",
      "D O        \n",
      "E       O O\n"
     ]
    },
    {
     "name": "stdin",
     "output_type": "stream",
     "text": [
      "Player 1, enter a move:  A4\n"
     ]
    },
    {
     "name": "stdout",
     "output_type": "stream",
     "text": [
      "Player 1 placed at A4.\n",
      "   1 2 3 4 5\n",
      "  ----------\n",
      "A X     X X\n",
      "B X        \n",
      "C X       O\n",
      "D O        \n",
      "E       O O\n"
     ]
    },
    {
     "name": "stdin",
     "output_type": "stream",
     "text": [
      "Player 2, enter a move:  E3\n"
     ]
    },
    {
     "name": "stdout",
     "output_type": "stream",
     "text": [
      "Player 2 placed at E3.\n",
      "   1 2 3 4 5\n",
      "  ----------\n",
      "A X     X X\n",
      "B X        \n",
      "C X       O\n",
      "D O        \n",
      "E     O O O\n"
     ]
    },
    {
     "name": "stdin",
     "output_type": "stream",
     "text": [
      "Player 1, enter a move:  X2\n"
     ]
    },
    {
     "name": "stdout",
     "output_type": "stream",
     "text": [
      "Invalid move, please try again!\n"
     ]
    },
    {
     "name": "stdin",
     "output_type": "stream",
     "text": [
      "Player 1, enter a move:  A2\n"
     ]
    },
    {
     "name": "stdout",
     "output_type": "stream",
     "text": [
      "Player 1 placed at A2.\n",
      "   1 2 3 4 5\n",
      "  ----------\n",
      "A X X   X X\n",
      "B X        \n",
      "C X       O\n",
      "D O        \n",
      "E     O O O\n"
     ]
    },
    {
     "name": "stdin",
     "output_type": "stream",
     "text": [
      "Player 2, enter a move:  E1\n"
     ]
    },
    {
     "name": "stdout",
     "output_type": "stream",
     "text": [
      "Player 2 placed at E1.\n",
      "   1 2 3 4 5\n",
      "  ----------\n",
      "A X X   X X\n",
      "B X        \n",
      "C X       O\n",
      "D O        \n",
      "E O   O O O\n"
     ]
    },
    {
     "name": "stdin",
     "output_type": "stream",
     "text": [
      "Player 1, enter a move:  A3\n"
     ]
    },
    {
     "name": "stdout",
     "output_type": "stream",
     "text": [
      "Player 1 placed at A3.\n",
      "   1 2 3 4 5\n",
      "  ----------\n",
      "A X X X X X\n",
      "B X        \n",
      "C X       O\n",
      "D O        \n",
      "E O   O O O\n",
      "Player 1 wins!\n"
     ]
    }
   ],
   "source": [
    "# Test your solution here\n",
    "tic_tac_toe()"
   ]
  },
  {
   "cell_type": "markdown",
   "metadata": {},
   "source": [
    "*Exercise 11:* (Advanced / Challenge) Develop a version of the game where one player is the computer. Note that you don't need to do an extensive seach for the best move. You can have the computer simply protect against loosing and otherwise try to win with straight or diagonal patterns."
   ]
  },
  {
   "cell_type": "code",
   "execution_count": 26,
   "metadata": {},
   "outputs": [],
   "source": [
    "# Write you solution here"
   ]
  },
  {
   "cell_type": "code",
   "execution_count": 27,
   "metadata": {},
   "outputs": [],
   "source": [
    "# Test your solution here"
   ]
  }
 ],
 "metadata": {
  "kernelspec": {
   "display_name": "Python 3 (ipykernel)",
   "language": "python",
   "name": "python3"
  },
  "language_info": {
   "codemirror_mode": {
    "name": "ipython",
    "version": 3
   },
   "file_extension": ".py",
   "mimetype": "text/x-python",
   "name": "python",
   "nbconvert_exporter": "python",
   "pygments_lexer": "ipython3",
   "version": "3.12.3"
  }
 },
 "nbformat": 4,
 "nbformat_minor": 4
}
