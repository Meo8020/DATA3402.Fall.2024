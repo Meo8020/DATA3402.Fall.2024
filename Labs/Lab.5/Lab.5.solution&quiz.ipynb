{
 "cells": [
  {
   "cell_type": "markdown",
   "metadata": {},
   "source": [
    "# Lab 5\n"
   ]
  },
  {
   "cell_type": "markdown",
   "metadata": {},
   "source": [
    "Matrix Representation: In this lab you will be creating a simple linear algebra system. In memory, we will represent matrices as nested python lists as we have done in lecture. In the exercises below, you are required to explicitly test every feature you implement, demonstrating it works.\n",
    "\n",
    "1. Create a `matrix` class with the following properties:\n",
    "    * It can be initialized in 2 ways:\n",
    "        1. with arguments `n` and `m`, the size of the matrix. A newly instanciated matrix will contain all zeros.\n",
    "        2. with a list of lists of values. Note that since we are using lists of lists to implement matrices, it is possible that not all rows have the same number of columns. Test explicitly that the matrix is properly specified.\n",
    "    * Matrix instances `M` can be indexed with `M[i][j]` and `M[i,j]`.\n",
    "    * Matrix assignment works in 2 ways:\n",
    "        1. If `M_1` and `M_2` are `matrix` instances `M_1=M_2` sets the values of `M_1` to those of `M_2`, if they are the same size. Error otherwise.\n",
    "        2. In example above `M_2` can be a list of lists of correct size.\n"
   ]
  },
  {
   "cell_type": "code",
   "execution_count": 24,
   "metadata": {},
   "outputs": [],
   "source": [
    "class Bmatrix:  ##set a super class as abstraction\n",
    "    def __init__(self, n=None, m=None, values=None): #none allows the class to be initialized in 2 ways\n",
    "       if values is not None:\n",
    "            # Matrix with list of lists\n",
    "            if not all(len(row) == len(values[0]) for row in values):\n",
    "                raise ValueError(\"All rows and columns must be the same number\")\n",
    "            self.matrix = values\n",
    "            self.n = len(values)       #  rows\n",
    "            self.m = len(values[0])    #  columns\n",
    "       elif n is not None and m is not None:\n",
    "            # Matrix will fill with zeros\n",
    "            self.n = n\n",
    "            self.m = m\n",
    "            self.matrix = [[0 for _ in range(m)] for _ in range(n)]\n",
    "       else:\n",
    "            raise ValueError(\"Must provide either dimensions or a list of lists\")\n",
    "           \n",
    "    def __repr__(self):\n",
    "        return '\\n'.join(['\\t'.join([str(elem) for elem in row]) for row in self.matrix])\n",
    "\n",
    "    def __getitem__(self, key):\n",
    "        # Allow M[i,j] access\n",
    "        if isinstance(key, tuple):\n",
    "            i, j = key\n",
    "            return self.matrix[i][j]\n",
    "        # Allow M[i] access\n",
    "        return self.matrix[key]\n",
    "\n",
    "    def __setitem__(self, key, value):\n",
    "        # Allow M[i,j] assignment\n",
    "        if isinstance(key, tuple):\n",
    "            i, j = key\n",
    "            self.matrix[i][j] = value\n",
    "        # Allow M[i] assignment\n",
    "        else:\n",
    "            self.matrix[key] = value\n",
    "\n",
    "    def __same_dimension__(self, other):\n",
    "        # Check if two matrices are equal (same size and same elements)\n",
    "        if isinstance(other, Bmatrix):\n",
    "            return self.matrix == other.matrix\n",
    "        return False\n",
    "\n",
    "    def __assign__(self, other):\n",
    "        # Assignment from another matrix or a list of lists\n",
    "        if isinstance(other, Bmatrix):\n",
    "            if self.n == other.n and self.m == other.m:\n",
    "                self.matrix = [row[:] for row in other.matrix]\n",
    "            else:\n",
    "                raise ValueError(\"Matrices must be the same size\")\n",
    "        elif isinstance(other, list):\n",
    "            if len(other) == self.n and all(len(row) == self.m for row in other):\n",
    "                self.matrix = [row[:] for row in other]\n",
    "            else:\n",
    "                raise ValueError(\"List of lists must match matrix size\")\n",
    "        else:\n",
    "            raise ValueError(\"Invalid assignment type\") "
   ]
  },
  {
   "cell_type": "code",
   "execution_count": 25,
   "metadata": {},
   "outputs": [
    {
     "name": "stdout",
     "output_type": "stream",
     "text": [
      "0\n",
      "[[4, 0, 0], [0, 0, 0], [0, 0, 0]]\n",
      "[[1, 2, 3], [4, 5, 6], [5, 3, 1]]\n",
      "[[7, 8, 9], [10, 11, 12], [6, 3, 7]]\n"
     ]
    }
   ],
   "source": [
    "M1 = Bmatrix(3, 3)  # matrix initialized by 0s\n",
    "M2 = Bmatrix(values=[[1, 2, 3], [4, 5, 6], [5, 3, 1]])  # 3x3 matrix from list of lists\n",
    "\n",
    "# Access matrix elements\n",
    "print(M1[0, 0])  # which element is at (0,0)?\n",
    "M1[0, 0] = 4   # Set element at (0,0)\n",
    "print(M1.matrix)\n",
    "\n",
    "# Modify assign M2 to M1\n",
    "M1.__assign__(M2)\n",
    "print(M1.matrix)\n",
    "\n",
    "# Assign a list of lists to M1\n",
    "M1.__assign__([[7, 8, 9], [10, 11, 12], [ 6, 3, 7]])\n",
    "print(M1.matrix)"
   ]
  },
  {
   "cell_type": "markdown",
   "metadata": {},
   "source": [
    "2. Add the following methods:\n",
    "    * `shape()`: returns a tuple `(n,m)` of the shape of the matrix.\n",
    "    * `transpose()`: returns a new matrix instance which is the transpose of the matrix.\n",
    "    * `row(n)` and `column(n)`: that return the nth row or column of the matrix M as a new appropriately shaped matrix object.\n",
    "    * `to_list()`: which returns the matrix as a list of lists.\n",
    "    *  `block(n_0,n_1,m_0,m_1)` that returns a smaller matrix located at the n_0 to n_1 columns and m_0 to m_1 rows. \n",
    "    * (Extra credit) Modify `__getitem__` implemented above to support slicing.\n",
    "        "
   ]
  },
  {
   "cell_type": "code",
   "execution_count": 26,
   "metadata": {},
   "outputs": [],
   "source": [
    "class matrix(Bmatrix):\n",
    "    def shape(self):\n",
    "        # tuple\n",
    "        return (self.n, self.m)\n",
    "\n",
    "    def transpose(self):\n",
    "        # new matrix will be transposed\n",
    "        transposed = [[self.matrix[j][i] for j in range(self.n)] for i in range(self.m)]\n",
    "        return matrix(values=transposed)\n",
    "\n",
    "    def row(self, n):\n",
    "        # Return the nth row as a new matrix object\n",
    "        if n >= self.n or n < 0:\n",
    "            raise IndexError(\"Row index out of range\")\n",
    "        return matrix(values=[self.matrix[n]])\n",
    "    def column(self, n):\n",
    "        if n >= self.m or n < 0:\n",
    "            raise IndexError(\"Column index out of range\")\n",
    "        col = [[self.matrix[i][n]] for i in range(self.n)]\n",
    "        return matrix(values=col)\n",
    "\n",
    "    def to_list(self):\n",
    "        # makes matrix into a list of lists\n",
    "        return [row[:] for row in self.matrix]\n",
    "\n",
    "    def block(self, n_0, n_1, m_0, m_1):\n",
    "        # Return a smaller matrix from rows n_0 to n_1 and columns m_0 to m_1\n",
    "        if not (0 <= n_0 <= n_1 < self.n and 0 <= m_0 <= m_1 < self.m):\n",
    "            raise IndexError(\"The indices out of range\")\n",
    "        block_matrix = [row[m_0:m_1+1] for row in self.matrix[n_0:n_1+1]] ##not including index n_1\n",
    "        return matrix(values=block_matrix)\n"
   ]
  },
  {
   "cell_type": "code",
   "execution_count": 27,
   "metadata": {},
   "outputs": [
    {
     "name": "stdout",
     "output_type": "stream",
     "text": [
      "Shape: (3, 3)\n",
      "Transpose: [[1, 4, 7], [4, 4, 4], [3, 6, 9]]\n",
      "Row 0: [[1, 4, 3]]\n",
      "Column 1: [[4], [4], [4]]\n",
      "Block from (1,2) to (1,2): [[4, 6], [4, 9]]\n"
     ]
    }
   ],
   "source": [
    "M1 = matrix(values=[[1, 4, 3], [4, 4, 6], [7, 4, 9]])\n",
    "\n",
    "print(\"Shape:\", M1.shape())  \n",
    "\n",
    "# Transpose the matrix\n",
    "transpose_M1 = M1.transpose()\n",
    "print(\"Transpose:\", transpose_M1.to_list())  # Output: [[1, 4, 7], [2, 5, 8], [3, 6, 9]]\n",
    "\n",
    "# Get the first row\n",
    "print(\"Row 0:\", M1.row(0).to_list())  # Output: [[1, 2, 3]]\n",
    "\n",
    "# Get the second column\n",
    "print(\"Column 1:\", M1.column(1).to_list())  # Output: [[2], [5], [8]]\n",
    "\n",
    "# Get a block of the matrix\n",
    "block_M1 = M1.block(1, 2, 1, 2)\n",
    "print(\"Block from (1,2) to (1,2):\", block_M1.to_list())  # Output: [[5, 6], [8, 9]]\n"
   ]
  },
  {
   "cell_type": "markdown",
   "metadata": {},
   "source": [
    "3. Write functions that create special matrices (note these are standalone functions, not member functions of your `matrix` class):\n",
    "    * `constant(n,m,c)`: returns a `n` by `m` matrix filled with floats of value `c`.\n",
    "    * `zeros(n,m)` and `ones(n,m)`: return `n` by `m` matrices filled with floats of value `0` and `1`, respectively.\n",
    "    * `eye(n)`: returns the n by n identity matrix."
   ]
  },
  {
   "cell_type": "code",
   "execution_count": 28,
   "metadata": {},
   "outputs": [],
   "source": [
    "#1\n",
    "def constant(n, m, c):\n",
    "    return [[float(c) for _ in range(m)] for _ in range(n)]"
   ]
  },
  {
   "cell_type": "code",
   "execution_count": 29,
   "metadata": {},
   "outputs": [
    {
     "name": "stdout",
     "output_type": "stream",
     "text": [
      "[[5.5, 5.5, 5.5], [5.5, 5.5, 5.5], [5.5, 5.5, 5.5], [5.5, 5.5, 5.5]]\n"
     ]
    }
   ],
   "source": [
    "print(constant(4, 3, 5.5))"
   ]
  },
  {
   "cell_type": "code",
   "execution_count": 30,
   "metadata": {},
   "outputs": [],
   "source": [
    "#2\n",
    "def zeros(n, m):\n",
    "    return constant(n, m, 0.0)"
   ]
  },
  {
   "cell_type": "code",
   "execution_count": 31,
   "metadata": {},
   "outputs": [
    {
     "name": "stdout",
     "output_type": "stream",
     "text": [
      "[[0.0, 0.0, 0.0], [0.0, 0.0, 0.0]]\n"
     ]
    }
   ],
   "source": [
    "print(zeros(2,3))"
   ]
  },
  {
   "cell_type": "code",
   "execution_count": 32,
   "metadata": {},
   "outputs": [],
   "source": [
    "#3\n",
    "def ones(n, m):\n",
    "    return constant(n, m, 1.0)"
   ]
  },
  {
   "cell_type": "code",
   "execution_count": 33,
   "metadata": {},
   "outputs": [
    {
     "name": "stdout",
     "output_type": "stream",
     "text": [
      "[[1.0, 1.0, 1.0], [1.0, 1.0, 1.0], [1.0, 1.0, 1.0]]\n"
     ]
    }
   ],
   "source": [
    "print(ones(3,3))"
   ]
  },
  {
   "cell_type": "code",
   "execution_count": 34,
   "metadata": {},
   "outputs": [],
   "source": [
    "#4\n",
    "def eye(n):\n",
    "    return [[float(1) if i == j else float(0) for j in range(n)] for i in range(n)]"
   ]
  },
  {
   "cell_type": "code",
   "execution_count": 35,
   "metadata": {},
   "outputs": [
    {
     "name": "stdout",
     "output_type": "stream",
     "text": [
      "[[1.0, 0.0, 0.0], [0.0, 1.0, 0.0], [0.0, 0.0, 1.0]]\n"
     ]
    }
   ],
   "source": [
    "print(eye(3))"
   ]
  },
  {
   "cell_type": "markdown",
   "metadata": {},
   "source": [
    "4. Add the following member functions to your class. Make sure to appropriately test the dimensions of the matrices to make sure the operations are correct.\n",
    "    * `M.scalarmul(c)`: a matrix that is scalar product $cM$, where every element of $M$ is multiplied by $c$.\n",
    "    * `M.add(N)`: adds two matrices $M$ and $N$. Don’t forget to test that the sizes of the matrices are compatible for this and all other operations.\n",
    "    * `M.sub(N)`: subtracts two matrices $M$ and $N$.\n",
    "    * `M.mat_mult(N)`: returns a matrix that is the matrix product of two matrices $M$ and $N$.\n",
    "    * `M.element_mult(N)`: returns a matrix that is the element-wise product of two matrices $M$ and $N$.\n",
    "    * `M.equals(N)`: returns true/false if $M==N$."
   ]
  },
  {
   "cell_type": "code",
   "execution_count": 40,
   "metadata": {},
   "outputs": [],
   "source": [
    "class Bmatrix(matrix):\n",
    "    def shape(self):\n",
    "        return (self.n, self.m)\n",
    "    def transpose(self):\n",
    "        return Bmatrix(values=[[self.matrix[j][i] for j in range(self.n)] for i in range(self.m)])\n",
    "    def row(self, n):\n",
    "        if n < 0 or n >= self.n:\n",
    "            raise IndexError(\"Row index out of range\")\n",
    "        return Bmatrix(values=[self.matrix[n]])\n",
    "    def column(self, n):\n",
    "        if n < 0 or n >= self.m:\n",
    "            raise IndexError(\"Column index out of range\")\n",
    "        return Bmatrix(values=[[self.matrix[i][n] for i in range(self.n)]])\n",
    "    def to_list(self):\n",
    "        return self.matrix\n",
    "    def block(self, n_0, n_1, m_0, m_1):\n",
    "        if n_0 < 0 or n_1 > self.n or m_0 < 0 or m_1 > self.m:\n",
    "            raise IndexError(\"Block indices out of range\")\n",
    "        return Bmatrix(values=[row[m_0:m_1] for row in self.matrix[n_0:n_1]])\n",
    "\n",
    "    def scalarmul(self, c):\n",
    "        # multiply element by c\n",
    "        return Bmatrix(values=[[c * element for element in row] for row in self.matrix])\n",
    "\n",
    "    def add(self, other):\n",
    "        if not isinstance(other, Bmatrix):\n",
    "            raise ValueError(\"Can only add another Bmatrix\")\n",
    "        if self.shape() != other.shape():\n",
    "            raise ValueError(\"Matrices must have the same dimensions to add\") ##check\n",
    "        return Bmatrix(values=[[self.matrix[i][j] + other.matrix[i][j] for j in range(self.m)] for i in range(self.n)])\n",
    "\n",
    "    def sub(self, other):\n",
    "        if not isinstance(other, Bmatrix):\n",
    "            raise ValueError(\"Can only subtract another Bmatrix\")\n",
    "        if self.shape() != other.shape():\n",
    "            raise ValueError(\"Matrices must have the same dimensions to subtract\")\n",
    "        return Bmatrix(values=[[self.matrix[i][j] - other.matrix[i][j] for j in range(self.m)] for i in range(self.n)])\n",
    "\n",
    "    def mat_mult(self, other):\n",
    "        #product of two matrices\n",
    "        if not isinstance(other, Bmatrix):\n",
    "             raise ValueError(\"Can only multiply by another Bmatrix\")\n",
    "        if self.m != other.n:\n",
    "            raise ValueError(\"Number of columns in the first matrix must be equal to the number of rows in the second matrix\")\n",
    "        \n",
    "        result_matrix = [[sum(self.matrix[i][k] * other.matrix[k][j] for k in range(self.m)) for j in range(other.m)] for i in range(self.n)]\n",
    "        \n",
    "        return Bmatrix(values=result_matrix)\n",
    "        \n",
    "    def element_mult(self, other):\n",
    "        #multiply corresponding elements of two matrices\n",
    "        if not isinstance(other, Bmatrix):\n",
    "            raise ValueError(\"Can only multiply by another Bmatrix\")\n",
    "        if self.shape() != other.shape():\n",
    "            raise ValueError(\"Matrices must have the same dimensions!\")\n",
    "        return Bmatrix(values=[[self.matrix[i][j] * other.matrix[i][j] for j in range(self.m)] for i in range(self.n)])\n",
    "\n",
    "    def equals(self, other):#returns true is both matrices are the same shape \n",
    "        if not isinstance(other, Bmatrix):\n",
    "            return False\n",
    "        return self.shape() == other.shape() and all(self.matrix[i] == other.matrix[i] for i in range(self.n))\n",
    "\n"
   ]
  },
  {
   "cell_type": "code",
   "execution_count": 41,
   "metadata": {},
   "outputs": [
    {
     "name": "stdout",
     "output_type": "stream",
     "text": [
      "Scalar Multiplication:\n",
      " [[4, 4, 6], [8, 18, 12], [14, 16, 20]]\n",
      "Matrix Addition:\n",
      " [[12, 10, 10], [10, 13, 10], [10, 11, 13]]\n",
      "Matrix Subtraction:\n",
      " [[-8, -6, -4], [-2, 5, 2], [4, 5, 7]]\n",
      "Element-wise Multiplication:\n",
      " [[20, 16, 21], [24, 36, 24], [21, 24, 30]]\n",
      "Matrices A and B are equal: False\n"
     ]
    }
   ],
   "source": [
    "first = Bmatrix(values=[[2, 2, 3], [4, 9, 6], [7, 8, 10]])\n",
    "second = Bmatrix(values=[[10, 8, 7], [6, 4, 4], [3, 3, 3]])\n",
    "###create more matrcies using thexe functions:\n",
    "a = first.scalarmul(2)\n",
    "print(\"Scalar Multiplication:\\n\", a.matrix)\n",
    "b = first.add(second)\n",
    "print(\"Matrix Addition:\\n\", b.matrix)\n",
    "c = first.sub(second)\n",
    "print(\"Matrix Subtraction:\\n\", c.matrix)\n",
    "d = first.element_mult(second)\n",
    "print(\"Element-wise Multiplication:\\n\", e.matrix)\n",
    "is_equal = first.equals(second)\n",
    "print(\"Matrices A and B are equal:\", is_equal)\n"
   ]
  },
  {
   "cell_type": "markdown",
   "metadata": {},
   "source": [
    "5. Overload python operators to appropriately use your functions in 4 and allow expressions like:\n",
    "    * 2*M\n",
    "    * M*2\n",
    "    * M+N\n",
    "    * M-N\n",
    "    * M*N\n",
    "    * M==N\n",
    "    * M=N\n"
   ]
  },
  {
   "cell_type": "code",
   "execution_count": 42,
   "metadata": {},
   "outputs": [
    {
     "name": "stdout",
     "output_type": "stream",
     "text": [
      "M * N M1:\n",
      " 41\t33\t31\n",
      "112\t86\t82\n",
      "148\t118\t111\n"
     ]
    }
   ],
   "source": [
    "first = Bmatrix(values=[[2, 2, 3], [4, 9, 6], [7, 8, 10]])\n",
    "second = Bmatrix(values=[[10, 8, 7], [6, 4, 4], [3, 3, 3]])\n",
    "# Test operation\n",
    "result1 = first.mat_mult(second) #M*N\n",
    "print(\"M * N M1:\\n\", result1)"
   ]
  },
  {
   "cell_type": "markdown",
   "metadata": {},
   "source": [
    "6. Demonstrate the basic properties of matrices with your matrix class by creating two 2 by 2 example matrices using your Matrix class and illustrating the following:\n",
    "\n",
    "$$\n",
    "(AB)C=A(BC)\n",
    "$$\n",
    "$$\n",
    "A(B+C)=AB+AC\n",
    "$$\n",
    "$$\n",
    "AB\\neq BA\n",
    "$$\n",
    "$$\n",
    "AI=A\n",
    "$$"
   ]
  },
  {
   "cell_type": "code",
   "execution_count": 43,
   "metadata": {},
   "outputs": [],
   "source": [
    "### these Properties are: Associative, Distributive, Not commutative multiplication and \n",
    "# multiplying by the identity matrix."
   ]
  },
  {
   "cell_type": "code",
   "execution_count": 44,
   "metadata": {},
   "outputs": [],
   "source": [
    "A = Bmatrix(values=[[2, 2], [3, 3]])\n",
    "B = Bmatrix(values=[[2, 6], [4, 8]])\n",
    "C = Bmatrix(values=[[4, 5], [3, 12]])\n",
    "I = Bmatrix(values=[[1, 9], [0, 8]])"
   ]
  },
  {
   "cell_type": "code",
   "execution_count": 45,
   "metadata": {},
   "outputs": [
    {
     "name": "stdout",
     "output_type": "stream",
     "text": [
      "(AB)C = A(BC):\n",
      " 132\t396\n",
      "198\t594 \n",
      " 132\t396\n",
      "198\t594 \n",
      "\n"
     ]
    }
   ],
   "source": [
    "# Associative:\n",
    "left_assoc = A.mat_mult(B).mat_mult(C)  # (AB)C\n",
    "right_assoc = A.mat_mult(B.mat_mult(C)) # A(BC)\n",
    "print(\"(AB)C = A(BC):\\n\", left_assoc, \"\\n\", right_assoc, \"\\n\")\n"
   ]
  },
  {
   "cell_type": "code",
   "execution_count": 46,
   "metadata": {},
   "outputs": [
    {
     "name": "stdout",
     "output_type": "stream",
     "text": [
      "AB ≠ BA:\n",
      "AB:\n",
      " 12\t28\n",
      "18\t42 \n",
      "BA:\n",
      " 22\t22\n",
      "32\t32 \n",
      "\n"
     ]
    }
   ],
   "source": [
    "# Matrix multiplication is not communitative\n",
    "AB = A.mat_mult(B)\n",
    "BA = B.mat_mult(A)\n",
    "print(\"AB ≠ BA:\\nAB:\\n\", AB, \"\\nBA:\\n\", BA, \"\\n\")"
   ]
  },
  {
   "cell_type": "markdown",
   "metadata": {},
   "source": [
    "**Quiz 2**"
   ]
  },
  {
   "cell_type": "markdown",
   "metadata": {},
   "source": [
    "Write a function make_deck that returns a list of all of the cards in a standard card deck. The return should be a list of tuples of pairs of suit and value. For example the 10 of Clubs would be ('Clubs', 10) and Queen of Hearts would be ('Hearts', 'Queen'). Recall that a deck has 52 cards, divided into 4 suits (Clubs, Diamonds, Hearts, and Spades), and that each suit has 13 cards: 2 to 10, Jack, Queen, King, and Ace. Summit your solution with Lab 5"
   ]
  },
  {
   "cell_type": "code",
   "execution_count": 47,
   "metadata": {},
   "outputs": [],
   "source": [
    "def make_deck():\n",
    "    suits = ['Hearts', 'Diamonds', 'Clubs', 'Spades']\n",
    "    values = list(range(2,11)) + ['Ace', 'Jack', 'Queen', 'King'] # range stops at 10\n",
    "\n",
    "    #create a deck\n",
    "    deck = [(suit, value) for suit in suits for value in values]\n",
    "    return deck"
   ]
  },
  {
   "cell_type": "code",
   "execution_count": 52,
   "metadata": {},
   "outputs": [
    {
     "name": "stdout",
     "output_type": "stream",
     "text": [
      "[('Hearts', 2), ('Hearts', 3), ('Hearts', 4), ('Hearts', 5), ('Hearts', 6), ('Hearts', 7), ('Hearts', 8), ('Hearts', 9), ('Hearts', 10), ('Hearts', 'Ace'), ('Hearts', 'Jack'), ('Hearts', 'Queen'), ('Hearts', 'King'), ('Diamonds', 2), ('Diamonds', 3), ('Diamonds', 4), ('Diamonds', 5), ('Diamonds', 6), ('Diamonds', 7), ('Diamonds', 8), ('Diamonds', 9), ('Diamonds', 10), ('Diamonds', 'Ace'), ('Diamonds', 'Jack'), ('Diamonds', 'Queen'), ('Diamonds', 'King'), ('Clubs', 2), ('Clubs', 3), ('Clubs', 4), ('Clubs', 5), ('Clubs', 6), ('Clubs', 7), ('Clubs', 8), ('Clubs', 9), ('Clubs', 10), ('Clubs', 'Ace'), ('Clubs', 'Jack'), ('Clubs', 'Queen'), ('Clubs', 'King'), ('Spades', 2), ('Spades', 3), ('Spades', 4), ('Spades', 5), ('Spades', 6), ('Spades', 7), ('Spades', 8), ('Spades', 9), ('Spades', 10), ('Spades', 'Ace'), ('Spades', 'Jack'), ('Spades', 'Queen'), ('Spades', 'King')]\n"
     ]
    }
   ],
   "source": [
    "deck = make_deck()\n",
    "print(deck)"
   ]
  },
  {
   "cell_type": "code",
   "execution_count": null,
   "metadata": {},
   "outputs": [],
   "source": []
  }
 ],
 "metadata": {
  "kernelspec": {
   "display_name": "Python 3 (ipykernel)",
   "language": "python",
   "name": "python3"
  },
  "language_info": {
   "codemirror_mode": {
    "name": "ipython",
    "version": 3
   },
   "file_extension": ".py",
   "mimetype": "text/x-python",
   "name": "python",
   "nbconvert_exporter": "python",
   "pygments_lexer": "ipython3",
   "version": "3.12.3"
  }
 },
 "nbformat": 4,
 "nbformat_minor": 4
}
