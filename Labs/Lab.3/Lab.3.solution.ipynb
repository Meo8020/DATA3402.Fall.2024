{
 "cells": [
  {
   "cell_type": "markdown",
   "metadata": {},
   "source": [
    "### Uniform Distribution\n",
    "Lets start with generating some fake random data. You can get a random number between 0 and 1 using the python random module as follow:"
   ]
  },
  {
   "cell_type": "code",
   "execution_count": 1,
   "metadata": {},
   "outputs": [
    {
     "name": "stdout",
     "output_type": "stream",
     "text": [
      "The Value of x is 0.28134802625758737\n"
     ]
    }
   ],
   "source": [
    "import random\n",
    "x=random.random()\n",
    "print(\"The Value of x is\", x)"
   ]
  },
  {
   "cell_type": "markdown",
   "metadata": {},
   "source": [
    "Everytime you call random, you will get a new number.\n",
    "\n",
    "*Exercise 1:* Using random, write a function `generate_uniform(N, mymin, mymax)`, that returns a python list containing N random numbers between specified minimum and maximum value. Note that you may want to quickly work out on paper how to turn numbers between 0 and 1 to between other values. "
   ]
  },
  {
   "cell_type": "code",
   "execution_count": 2,
   "metadata": {},
   "outputs": [],
   "source": [
    "# Skeleton\n",
    "def generate_uniform(N,x_min,x_max):\n",
    "    out = []\n",
    "    ### BEGIN SOLUTION\n",
    "    for _ in range(N):\n",
    "        u = random.random()\n",
    "        x = u * (x_max - x_min) + x_min\n",
    "        out.append(x)\n",
    "    ### END SOLUTION\n",
    "    return out"
   ]
  },
  {
   "cell_type": "code",
   "execution_count": 3,
   "metadata": {},
   "outputs": [
    {
     "name": "stdout",
     "output_type": "stream",
     "text": [
      "Data Type: <class 'list'>\n",
      "Data Length: 1000\n",
      "Type of Data Contents: <class 'float'>\n",
      "Data Minimum: -9.946413668247878\n",
      "Data Maximum: 9.994724983321984\n"
     ]
    }
   ],
   "source": [
    "# Test your solution here\n",
    "data=generate_uniform(1000,-10,10)\n",
    "print (\"Data Type:\", type(data))  #should print class 'list'\n",
    "print (\"Data Length:\", len(data))\n",
    "if len(data)>0: \n",
    "    print (\"Type of Data Contents:\", type(data[0])) #should print 'float'\n",
    "    print (\"Data Minimum:\", min(data)) #close to -10\n",
    "    print (\"Data Maximum:\", max(data)) #close to 10"
   ]
  },
  {
   "cell_type": "markdown",
   "metadata": {},
   "source": [
    "*Exercise 2a:* \n",
    "Write a function that computes the mean of values in a list. Recall the equation for the mean of a random variable $\\bf{x}$ computed on a data set of $n$ values $\\{ x_i \\} = \\{x_1, x_2, ..., x_n\\}$  is ${\\bf\\bar{x}} = \\frac{1}{n} \\sum_i^n x_i$."
   ]
  },
  {
   "cell_type": "code",
   "execution_count": 4,
   "metadata": {},
   "outputs": [],
   "source": [
    "# Skeleton\n",
    "def mean(Data):\n",
    "    m=0.\n",
    "    ### BEGIN SOLUTION\n",
    "    if len(Data) == 0:\n",
    "        return 0\n",
    "    total = sum(Data) #summing values into the data\n",
    "    m = total/len(Data) #compute the mean \n",
    "  \n",
    "    ### END SOLUTION\n",
    "    return m"
   ]
  },
  {
   "cell_type": "code",
   "execution_count": 5,
   "metadata": {},
   "outputs": [
    {
     "name": "stdout",
     "output_type": "stream",
     "text": [
      "Mean of Data: 0.02628670908785162\n"
     ]
    }
   ],
   "source": [
    "# Test your solution here\n",
    "print (\"Mean of Data:\", mean(data))"
   ]
  },
  {
   "cell_type": "markdown",
   "metadata": {},
   "source": [
    "*Exercise 2b:* \n",
    "Write a function that computes the variance of values in a list. Recall the equation for the variance of a random variable $\\bf{x}$ computed on a data set of $n$ values $\\{ x_i \\} = \\{x_1, x_2, ..., x_n\\}$  is ${\\bf\\langle x \\rangle} = \\frac{1}{n} \\sum_i^n (x_i - {\\bf\\bar{x}})$."
   ]
  },
  {
   "cell_type": "code",
   "execution_count": 6,
   "metadata": {},
   "outputs": [],
   "source": [
    "# Skeleton\n",
    "def variance(Data):\n",
    "    m=0.\n",
    "    #BEGIN SOLUTION\n",
    "    \n",
    "    if len(Data) == 0:\n",
    "        return 0\n",
    "    mean_value = sum(Data) / len(Data) #mean\n",
    "    diff_sum = sum((x - mean_value) ** 2 for x in Data) #variance by summing sq diff\n",
    "    m = diff_sum / len(Data)\n",
    "    \n",
    "    ### END SOLUTION\n",
    "    return m"
   ]
  },
  {
   "cell_type": "code",
   "execution_count": 7,
   "metadata": {},
   "outputs": [
    {
     "name": "stdout",
     "output_type": "stream",
     "text": [
      "Variance of Data: 33.62603554206999\n"
     ]
    }
   ],
   "source": [
    "# Test your solution here\n",
    "print (\"Variance of Data:\", variance(data))"
   ]
  },
  {
   "cell_type": "markdown",
   "metadata": {},
   "source": [
    "## Histogramming"
   ]
  },
  {
   "cell_type": "markdown",
   "metadata": {},
   "source": [
    "*Exercise 3:* Write a function that bins the data so that you can create a histogram. An example of how to implement histogramming is the following logic:\n",
    "\n",
    "* User inputs a list of values `x` and optionally `n_bins` which defaults to 10.\n",
    "* If not supplied, find the minimum and maximum (`x_min`,`x_max`) of the values in x.\n",
    "* Determine the bin size (`bin_size`) by dividing the range of the function by the number of bins.\n",
    "* Create an empty list of zeros of size `n_bins`, call it `hist`.\n",
    "* Loop over the values in `x`\n",
    "    * Loop over the values in `hist` with index `i`:\n",
    "        * If x is between `x_min+i*bin_size` and `x_min+(i+1)*bin_size`, increment `hist[i].` \n",
    "        * For efficiency, try to use continue to goto the next bin and data point.\n",
    "* Return `hist` and the list corresponding of the bin edges (i.e. of `x_min+i*bin_size`).    "
   ]
  },
  {
   "cell_type": "code",
   "execution_count": 8,
   "metadata": {},
   "outputs": [],
   "source": [
    "# Solution\n",
    "def histogram(x,n_bins=10,x_min=None,x_max=None):\n",
    "    ### BEGIN SOLUTION\n",
    "    if x_min is None:\n",
    "        x_min = min(x)\n",
    "    if x_max is None:\n",
    "        x_max = max(x)\n",
    "   #binsize\n",
    "    bsize = (x_max-x_min) / n_bins\n",
    "    #list of 0s\n",
    "    hist = [0] *  n_bins\n",
    "    #list of bin edges\n",
    "    bin_edges = [x_min + i * bsize for i in range(n_bins + 1)]\n",
    "    \n",
    "    #loop over x vlaues\n",
    "    for value in x:\n",
    "        #to find bin\n",
    "        for i in range(n_bins):\n",
    "            #check if value falls within the bin range\n",
    "            if x_min + i *bsize <= value < x_min +(i +1) * bsize:\n",
    "                hist[i] += 1\n",
    "                break #moving onto next value\n",
    "        \n",
    "    \n",
    "    ### END SOLUTION\n",
    "\n",
    "    return hist,bin_edges"
   ]
  },
  {
   "cell_type": "code",
   "execution_count": 9,
   "metadata": {},
   "outputs": [
    {
     "name": "stdout",
     "output_type": "stream",
     "text": [
      "[14, 15, 10, 10, 16, 5, 11, 12, 12, 8, 10, 9, 7, 11, 10, 14, 10, 11, 9, 7, 11, 9, 8, 10, 7, 5, 5, 16, 8, 6, 3, 11, 4, 14, 11, 14, 11, 7, 7, 7, 9, 17, 8, 10, 13, 4, 6, 12, 8, 11, 7, 14, 14, 11, 10, 6, 7, 16, 11, 16, 16, 12, 11, 14, 5, 12, 11, 12, 6, 8, 13, 7, 12, 12, 6, 10, 8, 11, 8, 12, 9, 10, 8, 12, 12, 9, 10, 11, 7, 12, 14, 8, 9, 10, 12, 4, 11, 14, 13, 3]\n"
     ]
    }
   ],
   "source": [
    "# Test your solution here\n",
    "h,b=histogram(data,100)  #100 bins\n",
    "print(h)"
   ]
  },
  {
   "cell_type": "markdown",
   "metadata": {},
   "source": [
    "*Exercise 4:* Write a function that uses the histogram function in the previous exercise to create a text-based \"graph\". For example the output could look like the following:\n",
    "```\n",
    "[  0,  1] : ######\n",
    "[  1,  2] : #####\n",
    "[  2,  3] : ######\n",
    "[  3,  4] : ####\n",
    "[  4,  5] : ####\n",
    "[  5,  6] : ######\n",
    "[  6,  7] : #####\n",
    "[  7,  8] : ######\n",
    "[  8,  9] : ####\n",
    "[  9, 10] : #####\n",
    "```\n",
    "\n",
    "Where each line corresponds to a bin and the number of `#`'s are proportional to the value of the data in the bin. "
   ]
  },
  {
   "cell_type": "code",
   "execution_count": 10,
   "metadata": {},
   "outputs": [],
   "source": [
    "# Solution\n",
    "def draw_histogram(x,n_bins,x_min=None,x_max=None,character=\"#\",max_character_per_line=20):\n",
    "    ### BEGIN SOLUTION\n",
    "    hist, bin_edges = histogram(x,n_bins,x_min,x_max)\n",
    "    #calculate the mac count to scale the graph\n",
    "    maxcount = max(hist)\n",
    "    #create the graph\n",
    "    for i in range(n_bins):\n",
    "        bin_start = bin_edges[i]\n",
    "        bin_end = bin_edges[i+1]\n",
    "        count = hist[i]\n",
    "        # Scale the number of `character` symbols based on the bin count\n",
    "        num_chars = int((count / maxcount) * max_character_per_line)\n",
    "        print(f\"[{bin_start:.2f}, {bin_end:.2f}] : {character * num_chars}\")\n",
    "    \n",
    "    ### END SOLUTION\n",
    "\n",
    "    return hist,bin_edges"
   ]
  },
  {
   "cell_type": "code",
   "execution_count": 11,
   "metadata": {},
   "outputs": [
    {
     "name": "stdout",
     "output_type": "stream",
     "text": [
      "[-9.95, -8.95] : ####################\n",
      "[-8.95, -7.95] : ##############\n",
      "[-7.95, -6.96] : ##############\n",
      "[-6.96, -5.96] : ###############\n",
      "[-5.96, -4.96] : #############\n",
      "[-4.96, -3.96] : ############\n",
      "[-3.96, -2.97] : #############\n",
      "[-2.97, -1.97] : ##############\n",
      "[-1.97, -0.97] : #################\n",
      "[-0.97, 0.02] : ############\n",
      "[0.02, 1.02] : #################\n",
      "[1.02, 2.02] : #################\n",
      "[2.02, 3.02] : #################\n",
      "[3.02, 4.01] : ###############\n",
      "[4.01, 5.01] : ###############\n",
      "[5.01, 6.01] : ###############\n",
      "[6.01, 7.00] : ###############\n",
      "[7.00, 8.00] : ###############\n",
      "[8.00, 9.00] : ################\n",
      "[9.00, 9.99] : #############\n"
     ]
    }
   ],
   "source": [
    "# Test your solution here\n",
    "h,b=draw_histogram(data,20)\n"
   ]
  },
  {
   "cell_type": "markdown",
   "metadata": {},
   "source": [
    "## Functional Programming\n",
    "\n",
    "*Exercise 5:* Write a function the applies a booling function (that returns true/false) to every element in data, and return a list of indices of elements where the result was true. Use this function to find the indices of entries greater than 0.5. "
   ]
  },
  {
   "cell_type": "code",
   "execution_count": 12,
   "metadata": {},
   "outputs": [],
   "source": [
    "def where(mylist,myfunc):\n",
    "    out= []\n",
    "    \n",
    "    ### BEGIN SOLUTION\n",
    "    for index, value in enumerate(mylist):\n",
    "        if myfunc(value): #boolean control check\n",
    "            out.append(index)\n",
    "    \n",
    "    ### END SOLUTION\n",
    "    \n",
    "    return out"
   ]
  },
  {
   "cell_type": "code",
   "execution_count": 13,
   "metadata": {},
   "outputs": [
    {
     "name": "stdout",
     "output_type": "stream",
     "text": [
      "Indices of entries greater than 0.5: [0, 5, 6, 7, 9, 11, 15, 16, 18, 19, 20, 21, 22, 24, 25, 27, 28, 32, 35, 37, 40, 41, 43, 47, 48, 49, 51, 54, 55, 56, 57, 60, 62, 63, 64, 65, 70, 71, 72, 77, 80, 81, 83, 84, 88, 90, 91, 92, 93, 94, 95, 97, 98, 100, 101, 102, 105, 107, 108, 110, 111, 114, 116, 120, 122, 124, 136, 137, 138, 139, 142, 145, 147, 150, 153, 157, 158, 159, 161, 165, 166, 169, 171, 172, 173, 175, 177, 179, 181, 183, 188, 189, 193, 194, 197, 201, 204, 205, 206, 210, 213, 215, 217, 218, 219, 220, 222, 224, 231, 232, 233, 238, 239, 240, 245, 248, 250, 251, 256, 257, 260, 261, 263, 264, 268, 269, 270, 272, 275, 278, 279, 283, 288, 289, 291, 295, 298, 300, 304, 306, 307, 308, 309, 312, 315, 316, 321, 322, 323, 324, 325, 326, 327, 328, 330, 332, 333, 337, 338, 339, 347, 348, 349, 350, 353, 354, 356, 357, 358, 360, 363, 365, 366, 367, 368, 372, 373, 375, 376, 378, 379, 380, 382, 386, 387, 390, 391, 393, 395, 396, 398, 399, 401, 402, 403, 404, 406, 410, 412, 415, 416, 419, 423, 424, 425, 427, 430, 431, 432, 435, 436, 439, 441, 442, 444, 446, 449, 450, 451, 453, 455, 456, 457, 459, 464, 466, 467, 468, 469, 472, 475, 476, 477, 478, 480, 483, 488, 489, 495, 500, 502, 503, 505, 515, 517, 518, 520, 521, 523, 524, 525, 528, 529, 533, 535, 536, 539, 541, 544, 545, 547, 550, 551, 552, 554, 557, 558, 559, 560, 561, 563, 564, 565, 567, 568, 569, 570, 571, 574, 577, 579, 580, 581, 582, 584, 588, 589, 591, 594, 595, 596, 597, 598, 599, 607, 608, 610, 613, 615, 617, 618, 621, 624, 625, 626, 627, 629, 630, 631, 632, 633, 634, 635, 638, 639, 641, 642, 643, 644, 645, 646, 648, 649, 652, 657, 658, 660, 662, 664, 665, 666, 667, 668, 673, 674, 676, 677, 678, 680, 682, 684, 686, 689, 690, 693, 695, 697, 698, 699, 703, 707, 711, 714, 715, 720, 722, 725, 726, 731, 732, 733, 734, 737, 740, 741, 742, 743, 747, 749, 750, 751, 752, 755, 758, 760, 761, 763, 767, 768, 769, 771, 772, 773, 775, 777, 778, 781, 782, 784, 789, 792, 796, 798, 800, 801, 802, 804, 810, 811, 813, 816, 819, 820, 821, 822, 824, 826, 827, 830, 831, 833, 834, 835, 837, 840, 842, 844, 847, 848, 851, 852, 855, 857, 858, 859, 860, 861, 862, 863, 864, 870, 873, 874, 875, 876, 877, 881, 885, 886, 887, 890, 891, 897, 898, 899, 900, 901, 902, 904, 910, 911, 913, 914, 916, 917, 918, 920, 921, 925, 926, 928, 932, 933, 937, 942, 945, 946, 948, 951, 954, 956, 960, 961, 962, 963, 964, 965, 968, 969, 976, 978, 983, 986, 989, 991, 993, 996, 998, 999]\n"
     ]
    }
   ],
   "source": [
    "# Test your solution here\n",
    "indices = where(data, lambda x: x > 0.5)  # Find indices of entries greater than 0.5\n",
    "print(\"Indices of entries greater than 0.5:\", indices)"
   ]
  },
  {
   "cell_type": "markdown",
   "metadata": {},
   "source": [
    "*Exercise 6:* The `inrange(mymin,mymax)` function below returns a function that tests if it's input is between the specified values. Write corresponding functions that test:\n",
    "* Even\n",
    "* Odd\n",
    "* Greater than\n",
    "* Less than\n",
    "* Equal\n",
    "* Divisible by"
   ]
  },
  {
   "cell_type": "code",
   "execution_count": 14,
   "metadata": {},
   "outputs": [
    {
     "name": "stdout",
     "output_type": "stream",
     "text": [
      "True True False False False\n",
      "False False True True False\n",
      "Number of Entries passing F1: 519\n",
      "Number of Entries passing F2: 0\n"
     ]
    }
   ],
   "source": [
    "def in_range(mymin,mymax):\n",
    "    def testrange(x):\n",
    "        return x<mymax and x>=mymin\n",
    "    return testrange\n",
    "\n",
    "# Examples:\n",
    "F1=in_range(0,10)\n",
    "F2=in_range(10,20)\n",
    "\n",
    "# Test of in_range\n",
    "print (F1(0), F1(1), F1(10), F1(15), F1(20))\n",
    "print (F2(0), F2(1), F2(10), F2(15), F2(20))\n",
    "\n",
    "print (\"Number of Entries passing F1:\", len(where(data,F1)))\n",
    "print (\"Number of Entries passing F2:\", len(where(data,F2)))"
   ]
  },
  {
   "cell_type": "code",
   "execution_count": 15,
   "metadata": {},
   "outputs": [],
   "source": [
    "### BEGIN SOLUTION\n",
    "def is_even():\n",
    "    def test_even(x):\n",
    "        return x % 2 == 0\n",
    "    return test_even\n",
    "\n",
    "def is_odd():\n",
    "    def test_odd(x):\n",
    "        return x % 2 != 0\n",
    "    return test_odd\n",
    "\n",
    "def greater_than(myval):\n",
    "    def test_greater(x):\n",
    "        return x > myval\n",
    "    return test_greater\n",
    "\n",
    "def less_than(myval):\n",
    "    def test_less(x):\n",
    "        return x < myval\n",
    "    return test_less\n",
    "\n",
    "def equal_to(myval):\n",
    "    def test_equal(x):\n",
    "        return x == myval\n",
    "    return test_equal\n",
    "\n",
    "def divisible_by(myval):\n",
    "    def test_divisible(x):\n",
    "        return x % myval == 0\n",
    "    return test_divisible\n",
    "    ###### Examples:\n",
    "F3 = is_even()\n",
    "F4 = is_odd()\n",
    "F5 = greater_than(8)\n",
    "F6 = less_than(4)\n",
    "F7 = equal_to(10)\n",
    "F8 = divisible_by(3)\n",
    "    \n",
    "### END SOLUTION"
   ]
  },
  {
   "cell_type": "code",
   "execution_count": 18,
   "metadata": {},
   "outputs": [
    {
     "name": "stdout",
     "output_type": "stream",
     "text": [
      "True False\n",
      "False True\n",
      "False False\n",
      "False False False\n",
      "True False False\n",
      "True False True\n"
     ]
    }
   ],
   "source": [
    "# Test your solution\n",
    "print(F3(4), F3(3))  \n",
    "print(F4(2), F4(3))  \n",
    "print(F5(7), F5(5))  \n",
    "print(F6(18), F6(15), F6(16))  \n",
    "print(F7(10), F7(9), F7(11))  \n",
    "print(F8(9), F8(10), F8(12))  "
   ]
  },
  {
   "cell_type": "markdown",
   "metadata": {},
   "source": [
    "*Exercise 7:* Repeat the previous exercise using `lambda` and the built-in python functions sum and map instead of your solution above. "
   ]
  },
  {
   "cell_type": "code",
   "execution_count": 19,
   "metadata": {},
   "outputs": [
    {
     "name": "stdout",
     "output_type": "stream",
     "text": [
      "False False True True False\n",
      "False False False True False\n",
      "Even count: 0\n",
      "Odd count: 1000\n",
      "Greater than 5 count: 298\n",
      "Less than 15 count: 1000\n",
      "Equal to 10 count: 0\n",
      "Divisible by 3 count: 0\n"
     ]
    }
   ],
   "source": [
    "### BEGIN SOLUTION\n",
    "# map is used to apply each lamda func over a dataset\n",
    "def in_range(mymin, mymax):\n",
    "    return lambda x: mymin <= x < mymax\n",
    "\n",
    "def is_even():\n",
    "    return lambda x: x % 2 == 0\n",
    "\n",
    "def is_odd():\n",
    "    return lambda x: x % 2 != 0\n",
    "\n",
    "def greater_than(myval):\n",
    "    return lambda x: x > myval\n",
    "\n",
    "def less_than(myval):\n",
    "    return lambda x: x < myval\n",
    "\n",
    "def equal_to(myval):\n",
    "    return lambda x: x == myval\n",
    "\n",
    "def divisible_by(myval):\n",
    "    return lambda x: x % myval == 0\n",
    "\n",
    "######## Examples:\n",
    "F1 = in_range(5, 20)\n",
    "F2 = in_range(12, 20)\n",
    "F3 = is_even()\n",
    "F4 = is_odd()\n",
    "F5 = greater_than(4)\n",
    "F6 = less_than(14)\n",
    "F7 = equal_to(10)\n",
    "F8 = divisible_by(3)\n",
    "\n",
    "# Test of in_range\n",
    "print(F1(0), F1(1), F1(10), F1(15), F1(20))  # Test in_range\n",
    "print(F2(0), F2(1), F2(10), F2(15), F2(20))  # Test in_range\n",
    "\n",
    "\n",
    "# Test of other functions using sum and map\n",
    "print(\"Even count:\", sum(map(F3, data)))\n",
    "print(\"Odd count:\", sum(map(F4, data)))\n",
    "print(\"Greater than 5 count:\", sum(map(F5, data)))\n",
    "print(\"Less than 15 count:\", sum(map(F6, data)))\n",
    "print(\"Equal to 10 count:\", sum(map(F7, data)))\n",
    "print(\"Divisible by 3 count:\", sum(map(F8, data)))\n",
    "\n",
    "### END SOLUTION"
   ]
  },
  {
   "cell_type": "markdown",
   "metadata": {},
   "source": [
    "## Monte Carlo\n",
    "\n",
    "*Exercise 7:* Write a \"generator\" function called `generate_function(func,x_min,x_max,N)`, that instead of generating a flat distribution, generates a distribution with functional form coded in `func`. Note that `func` will always be > 0.  \n",
    "\n",
    "Use the test function below and your histogramming functions above to demonstrate that your generator is working properly.\n",
    "\n",
    "Hint: A simple, but slow, solution is to a draw random number `test_x` within the specified range and another number `p` between the `min` and `max` of the function (which you will have to determine). If `p<=function(test_x)`, then place `test_x` on the output. If not, repeat the process, drawing two new numbers. Repeat until you have the specified number of generated numbers, `N`. For this problem, it's OK to determine the `min` and `max` by numerically sampling the function.  "
   ]
  },
  {
   "cell_type": "code",
   "execution_count": 23,
   "metadata": {},
   "outputs": [],
   "source": [
    "def generate_function(func,x_min,x_max,N=1000):\n",
    "    out = list()\n",
    "    ### BEGIN SOLUTION\n",
    "    x_samples = [x_min + (x_max - x_min) * i / 999 for i in range(1000)]\n",
    "    y_samples = [func(x) for x in x_samples]\n",
    "    y_min = min(y_samples)\n",
    "    y_max = max(y_samples)\n",
    "    \n",
    "    while len(out) < N:\n",
    "        #genrate random x within the range\n",
    "        test_x = random.uniform(x_min, x_max)\n",
    "        #generate a random p withing the range\n",
    "        p = random.uniform(y_min, y_max)\n",
    "\n",
    "        #if p is less than or equal to the fucn val at test_c\n",
    "        if p <= func(test_x):\n",
    "            out.append(test_x)\n",
    "    \n",
    "    ### END SOLUTION\n",
    "    \n",
    "    return out"
   ]
  },
  {
   "cell_type": "code",
   "execution_count": 26,
   "metadata": {},
   "outputs": [
    {
     "name": "stdout",
     "output_type": "stream",
     "text": [
      "Count of odd samples: 1000\n",
      "Count of samples greater than 5: 436\n",
      "Count of samples equal to 10: 0\n"
     ]
    }
   ],
   "source": [
    "# A test function\n",
    "def test_func(x,a=1,b=1):\n",
    "    return abs(a*x+b)\n",
    "x_min = -10\n",
    "x_max = 10\n",
    "N = 1000\n",
    "samps = generate_function(test_func, x_min, x_max, N)\n",
    "##use the filtering fucntions from histogramming\n",
    "odd_count = sum(map(is_odd(), samps))\n",
    "greater_than_five_count = sum(map(greater_than(5), samps))\n",
    "equal_to_ten_count = sum(map(equal_to(10), samps))\n",
    "\n",
    "print(\"Count of odd samples:\", odd_count)\n",
    "print(\"Count of samples greater than 5:\", greater_than_five_count)\n",
    "print(\"Count of samples equal to 10:\", equal_to_ten_count)"
   ]
  },
  {
   "cell_type": "markdown",
   "metadata": {},
   "source": [
    "*Exercise 8:* Use your function to generate 1000 numbers that are normal distributed, using the `gaussian` function below. Confirm the mean and variance of the data is close to the mean and variance you specify when building the Gaussian. Histogram the data. "
   ]
  },
  {
   "cell_type": "code",
   "execution_count": 27,
   "metadata": {},
   "outputs": [],
   "source": [
    "import math\n",
    "\n",
    "def gaussian(mean, sigma):\n",
    "    def f(x):\n",
    "        return math.exp(-((x-mean)**2)/(2*sigma**2))/math.sqrt(math.pi*sigma)\n",
    "    return f\n",
    "\n",
    "# Example Instantiation\n",
    "g1=gaussian(0,1)\n",
    "g2=gaussian(10,3)"
   ]
  },
  {
   "cell_type": "code",
   "execution_count": 28,
   "metadata": {},
   "outputs": [
    {
     "name": "stdout",
     "output_type": "stream",
     "text": [
      "Generated Samples Mean: 0.05917767638240581\n",
      "Generated Samples Variance: 0.9311144883151685\n"
     ]
    }
   ],
   "source": [
    "# Generate 1000 samples from the first Gaussian\n",
    "samples = generate_function(g1, -5, 5, 1000) #xmin-5 and xmax5\n",
    "\n",
    "mean_sample = sum(samples) / len(samples)\n",
    "variance_sample = sum((x - mean_sample) ** 2 for x in samples) / len(samples)\n",
    "\n",
    "print(\"Generated Samples Mean:\", mean_sample)\n",
    "print(\"Generated Samples Variance:\", variance_sample)"
   ]
  },
  {
   "cell_type": "markdown",
   "metadata": {},
   "source": [
    "*Exercise 9:* Combine your `generate_function`, `where`, and `in_range` functions above to create an integrate function. Use your integrate function to show that approximately 68% of Normal distribution is within one variance."
   ]
  },
  {
   "cell_type": "code",
   "execution_count": 31,
   "metadata": {},
   "outputs": [],
   "source": [
    "def integrate(func, x_min, x_max, n_points=1000):\n",
    "    samples = generate_function(func, x_min, x_max, n_points)\n",
    "    # Define the range within one stdev\n",
    "    condition = in_range(mean - sigma, mean + sigma)\n",
    "    \n",
    "    count_within_range = len(where(samples, condition))\n",
    "    # Approximate the integral (area under the curve)\n",
    "    integral = count_within_range / len(samples)\n",
    "    \n",
    "    return integral"
   ]
  },
  {
   "cell_type": "code",
   "execution_count": 32,
   "metadata": {},
   "outputs": [
    {
     "name": "stdout",
     "output_type": "stream",
     "text": [
      "Approximate area under the curve within one standard deviation: 0.681\n"
     ]
    }
   ],
   "source": [
    "mean = 0\n",
    "sigma = 1\n",
    "g1 = gaussian(mean, sigma)\n",
    "# Perform integration \n",
    "area = integrate(g1, mean - 4 * sigma, mean + 4 * sigma)  # Wider range to ensure coverage\n",
    "\n",
    "print(\"Approximate area under the curve within one standard deviation:\", area)"
   ]
  },
  {
   "cell_type": "code",
   "execution_count": 33,
   "metadata": {},
   "outputs": [],
   "source": [
    "### About 68% of the normal distribution falls within 1stdev from mean. "
   ]
  },
  {
   "cell_type": "code",
   "execution_count": null,
   "metadata": {},
   "outputs": [],
   "source": []
  }
 ],
 "metadata": {
  "kernelspec": {
   "display_name": "Python 3 (ipykernel)",
   "language": "python",
   "name": "python3"
  },
  "language_info": {
   "codemirror_mode": {
    "name": "ipython",
    "version": 3
   },
   "file_extension": ".py",
   "mimetype": "text/x-python",
   "name": "python",
   "nbconvert_exporter": "python",
   "pygments_lexer": "ipython3",
   "version": "3.12.3"
  }
 },
 "nbformat": 4,
 "nbformat_minor": 4
}
