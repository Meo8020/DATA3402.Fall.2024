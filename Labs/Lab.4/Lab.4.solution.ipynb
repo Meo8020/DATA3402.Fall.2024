{
 "cells": [
  {
   "cell_type": "markdown",
   "metadata": {},
   "source": [
    "# Lab 4- Object Oriented Programming\n",
    "\n",
    "For all of the exercises below, make sure you provide tests of your solutions.\n"
   ]
  },
  {
   "cell_type": "markdown",
   "metadata": {},
   "source": [
    "1. Write a \"counter\" class that can be incremented up to a specified maximum value, will print an error if an attempt is made to increment beyond that value, and allows reseting the counter. "
   ]
  },
  {
   "cell_type": "code",
   "execution_count": 1,
   "metadata": {},
   "outputs": [],
   "source": [
    "class counter:\n",
    "    def __init__(self, maxval):\n",
    "        self.value = 0\n",
    "        self.maxval = maxval #set the max value for counter\n",
    "    def increase(self):\n",
    "        if self.value < self.maxval:\n",
    "            self.value += 1 #increases the counter by 1\n",
    "        else:\n",
    "            print(\"You can not add beyond the maximum value\")\n",
    "    def reset(self):\n",
    "        self.value = 0 #resets the counter \n",
    "        "
   ]
  },
  {
   "cell_type": "code",
   "execution_count": 2,
   "metadata": {},
   "outputs": [
    {
     "name": "stdout",
     "output_type": "stream",
     "text": [
      "4\n",
      "You can not add beyond the maximum value\n",
      "0\n"
     ]
    }
   ],
   "source": [
    "c = counter(4)  # Set the maximum value to 4\n",
    "c.increase()  \n",
    "c.increase() \n",
    "c.increase()\n",
    "c.increase() \n",
    "print(c.value)  # Output\n",
    "c.increase()   \n",
    "# Resets the counter to 0\n",
    "c.reset()\n",
    "print(c.value)"
   ]
  },
  {
   "cell_type": "markdown",
   "metadata": {},
   "source": [
    "2. Copy and paste your solution to question 1 and modify it so that all the data held by the counter is private. Implement functions to check the value of the counter, check the maximum value, and check if the counter is at the maximum."
   ]
  },
  {
   "cell_type": "code",
   "execution_count": 3,
   "metadata": {},
   "outputs": [],
   "source": [
    "# encapsulation?\n",
    "class Counter:\n",
    "    def __init__(self, maxval):\n",
    "        self.__value = 0         # Private attribute double underscore\n",
    "        self.__maxval = maxval  # Private attribute double underscore\n",
    "    \n",
    "    def increase(self):\n",
    "        if self.__value < self.__maxval:\n",
    "            self.__value += 1  # Increases the counter by 1\n",
    "        else:\n",
    "            print(\"Cannot add beyond the maximum value\")\n",
    "    \n",
    "    def reset(self):\n",
    "        self.__value = 0  # Reset the counter to 0\n",
    "    \n",
    "    # Function to check the current value of the counter\n",
    "    def get_value(self):\n",
    "        return self.__value\n",
    "    \n",
    "    # Function to check the maximum value of the counter\n",
    "    def get_max_value(self):\n",
    "        return self.__maxval\n",
    "    \n",
    "    # Function to check if the counter is at the maximum value\n",
    "    def is_at_max(self):\n",
    "        return self.__value == self.__maxval\n"
   ]
  },
  {
   "cell_type": "code",
   "execution_count": 4,
   "metadata": {},
   "outputs": [
    {
     "name": "stdout",
     "output_type": "stream",
     "text": [
      "2\n",
      "6\n",
      "False\n",
      "5\n",
      "False\n",
      "Cannot add beyond the maximum value\n"
     ]
    }
   ],
   "source": [
    "c = Counter(6)  # Create a counter with max value \n",
    "c.increase()\n",
    "c.increase()\n",
    "print(c.get_value())  # Output: 2\n",
    "print(c.get_max_value())  # get the max value allowed\n",
    "print(c.is_at_max())  # Output: False\n",
    "\n",
    "c.increase()\n",
    "c.increase()\n",
    "c.increase()\n",
    "print(c.get_value())  \n",
    "print(c.is_at_max())  # Output: not yet at max\n",
    "\n",
    "c.increase()\n",
    "c.increase() # can not add beyond 6"
   ]
  },
  {
   "cell_type": "markdown",
   "metadata": {},
   "source": [
    "3. Implement a class to represent a rectangle, holding the length, width, and $x$ and $y$ coordinates of a corner of the object. Implement functions that compute the area and perimeter of the rectangle. Make all data members private and privide accessors to retrieve values of data members. "
   ]
  },
  {
   "cell_type": "code",
   "execution_count": 5,
   "metadata": {},
   "outputs": [],
   "source": [
    "class rectangle:\n",
    "    def __init__(self, length, width, x, y):\n",
    "        self.__length = length\n",
    "        self.__width = width\n",
    "        self.__x = x\n",
    "        self.__y = y\n",
    "    def area(self):\n",
    "        return self.__length * self.__width \n",
    "    def perimeter(self):\n",
    "        return 2 * (self.__length + self.__width)\n",
    "    ##Accessors to retrieve private attributes\n",
    "    def get_length(self):\n",
    "        return self.__length\n",
    "\n",
    "    def get_width(self):\n",
    "        return self.__width\n",
    "\n",
    "    def get_x(self):\n",
    "        return self.__x\n",
    "\n",
    "    def get_y(self):\n",
    "        return self.__y\n",
    "    "
   ]
  },
  {
   "cell_type": "code",
   "execution_count": 6,
   "metadata": {},
   "outputs": [
    {
     "name": "stdout",
     "output_type": "stream",
     "text": [
      "Area: 15\n",
      "Perimeter: 16\n",
      "Length: 5\n",
      "Width: 3\n",
      "X-coordinate: 2\n",
      "Y-coordinate: 4\n"
     ]
    }
   ],
   "source": [
    "rect = rectangle(5, 3, 2, 4)  # Rectangle with length 5, width 3, corner at (2,4)\n",
    "print(\"Area:\", rect.area())  \n",
    "print(\"Perimeter:\", rect.perimeter())\n",
    "print(\"Length:\", rect.get_length()) \n",
    "print(\"Width:\", rect.get_width())    \n",
    "print(\"X-coordinate:\", rect.get_x())\n",
    "print(\"Y-coordinate:\", rect.get_y()) "
   ]
  },
  {
   "cell_type": "markdown",
   "metadata": {},
   "source": [
    "4. Implement a class to represent a circle, holding the radius and $x$ and $y$ coordinates of center of the object. Implement functions that compute the area and perimeter of the rectangle. Make all data members private and privide accessors to retrieve values of data members. "
   ]
  },
  {
   "cell_type": "code",
   "execution_count": 7,
   "metadata": {},
   "outputs": [],
   "source": [
    "class circle:\n",
    "    def __init__(self, radius, x, y):\n",
    "        self.__radius = radius\n",
    "        self.__x = x  # x coordinate of the center\n",
    "        self.__y = y  # y coordinate of the center\n",
    "\n",
    "    def area(self):\n",
    "        pi = 3.14  # ~ pi\n",
    "        return pi * self.__radius ** 2\n",
    "    def circumference(self):\n",
    "        pi = 3.14 \n",
    "        return 2 * pi * self.__radius\n",
    "    # Accessors to retreive private attributes\n",
    "    def get_radius(self):\n",
    "        return self.__radius\n",
    "    def get_x(self):\n",
    "        return self.__x\n",
    "    def get_y(self):\n",
    "        return self.__y\n"
   ]
  },
  {
   "cell_type": "code",
   "execution_count": 8,
   "metadata": {},
   "outputs": [
    {
     "name": "stdout",
     "output_type": "stream",
     "text": [
      "Area: 28.26\n",
      "Circumference: 18.84\n",
      "Radius: 3\n",
      "X-coordinate of center: 2\n",
      "Y-coordinate of center: 1\n"
     ]
    }
   ],
   "source": [
    "circle = circle(3, 2, 1)  # Circle with radius 3 and center at (2,1)\n",
    "print(\"Area:\", circle.area())  \n",
    "print(\"Circumference:\", circle.circumference())  \n",
    "print(\"Radius:\", circle.get_radius())  \n",
    "print(\"X-coordinate of center:\", circle.get_x())\n",
    "print(\"Y-coordinate of center:\", circle.get_y())  "
   ]
  },
  {
   "cell_type": "markdown",
   "metadata": {},
   "source": [
    "5. Implement a common base class for the classes implemented in 3 and 4 above which implements all common methods as not implemented functions (virtual). Re-implement your regtangle and circule classes to inherit from the base class and overload the functions accordingly. "
   ]
  },
  {
   "cell_type": "code",
   "execution_count": 19,
   "metadata": {},
   "outputs": [],
   "source": [
    "# Base Class....\n",
    "class shape:\n",
    "    def area(self):\n",
    "        pass  # Placeholder \n",
    "\n",
    "    def perimeter(self):\n",
    "        pass  \n",
    "\n",
    "    def get_x(self):\n",
    "        pass  \n",
    "\n",
    "    def get_y(self):\n",
    "        pass  \n",
    "# Rectanle Class\n",
    "class rectangle(Shape):\n",
    "    def __init__(self, length, width, x, y):\n",
    "        self.__length = length\n",
    "        self.__width = width\n",
    "        self.__x = x\n",
    "        self.__y = y\n",
    "\n",
    "    def area(self):\n",
    "        return self.__length * self.__width\n",
    "\n",
    "    def perimeter(self):\n",
    "        return 2 * (self.__length + self.__width)\n",
    "\n",
    "    def get_x(self):\n",
    "        return self.__x\n",
    "\n",
    "    def get_y(self):\n",
    "        return self.__y\n",
    "\n",
    "    def get_length(self):\n",
    "        return self.__length\n",
    "\n",
    "    def get_width(self):\n",
    "        return self.__width\n",
    "# Circle Class\n",
    "class circle(Shape):\n",
    "    def __init__(self, radius, x, y):\n",
    "        self.__radius = radius\n",
    "        self.__x = x\n",
    "        self.__y = y\n",
    "\n",
    "    def area(self):\n",
    "        pi = 3.14  \n",
    "        return pi * self.__radius ** 2\n",
    "\n",
    "    def perimeter(self):\n",
    "        pi = 3.14\n",
    "        return 2 * pi * self.__radius\n",
    "    def get_x(self):\n",
    "        return self.__x\n",
    "    def get_y(self):\n",
    "        return self.__y\n",
    "    def get_radius(self):\n",
    "        return self.__radius"
   ]
  },
  {
   "cell_type": "code",
   "execution_count": 20,
   "metadata": {},
   "outputs": [
    {
     "name": "stdout",
     "output_type": "stream",
     "text": [
      "Rectangle Area: 20\n",
      "Rectangle Perimeter: 18\n",
      "Circle Area: 153.86\n",
      "Circle Perimeter: 43.96\n"
     ]
    }
   ],
   "source": [
    "rectangle = rectangle(5, 4, 1, 1)\n",
    "print(\"Rectangle Area:\", rectangle.area())  \n",
    "print(\"Rectangle Perimeter:\", rectangle.perimeter())  \n",
    "\n",
    "circle = circle(7, 1, 1)\n",
    "print(\"Circle Area:\", circle.area())  \n",
    "print(\"Circle Perimeter:\", circle.perimeter()) \n"
   ]
  },
  {
   "cell_type": "markdown",
   "metadata": {},
   "source": [
    "6. Implement a triangle class analogous to the rectangle and circle in question 5."
   ]
  },
  {
   "cell_type": "code",
   "execution_count": 22,
   "metadata": {},
   "outputs": [],
   "source": [
    "class triangle:\n",
    "    def __init__(self, base, height, x, y):\n",
    "        self.__base = base      \n",
    "        self.__height = height   \n",
    "        self.__x = x            \n",
    "        self.__y = y            \n",
    "    def area(self):\n",
    "        return 0.5 * self.__base * self.__height\n",
    "    def perimeter(self):\n",
    "        #isosceles?\n",
    "        side_length = ((self.__base / 2) ** 2 + self.__height ** 2) ** 0.5\n",
    "        return self.__base + 2 * side_length\n",
    "\n",
    "    # Accessors to retrieve private attributes\n",
    "    def get_base(self):\n",
    "        return self.__base\n",
    "    def get_height(self):\n",
    "        return self.__height\n",
    "    def get_x(self):\n",
    "        return self.__x\n",
    "    def get_y(self):\n",
    "        return self.__y"
   ]
  },
  {
   "cell_type": "code",
   "execution_count": 23,
   "metadata": {},
   "outputs": [
    {
     "name": "stdout",
     "output_type": "stream",
     "text": [
      "Triangle Area: 150.0\n",
      "Triangle Perimeter: 56.05551275463989\n"
     ]
    }
   ],
   "source": [
    "triangle = triangle(20, 15, 3, 4)\n",
    "print(\"Triangle Area:\", triangle.area())  \n",
    "print(\"Triangle Perimeter:\", triangle.perimeter())  "
   ]
  },
  {
   "cell_type": "markdown",
   "metadata": {},
   "source": [
    "7. Add a function to the object classes, including the base, that returns a list of up to 16 pairs of  $x$ and $y$ points on the parameter of the object. "
   ]
  },
  {
   "cell_type": "code",
   "execution_count": 30,
   "metadata": {},
   "outputs": [],
   "source": [
    "from math import cos, sin, pi\n",
    "\n",
    "class shape:\n",
    "    def area(self):\n",
    "        pass  # Placeholder \n",
    "    def perimeter(self):\n",
    "        pass  \n",
    "    def get_x(self):\n",
    "        pass  \n",
    "    def get_y(self):\n",
    "        pass\n",
    "    def get_perimeter_points(self):\n",
    "        pass  \n",
    "class rectangle(Shape):\n",
    "    def __init__(self, length, width, x, y):\n",
    "        self.__length = length\n",
    "        self.__width = width\n",
    "        self.__x = x\n",
    "        self.__y = y\n",
    "\n",
    "    def area(self):\n",
    "        return self.__length * self.__width\n",
    "    def perimeter(self):\n",
    "        return 2 * (self.__length + self.__width)\n",
    "    def get_x(self):\n",
    "        return self.__x\n",
    "    def get_y(self):\n",
    "        return self.__y\n",
    "    def get_perimeter_points(self):\n",
    "        points = []\n",
    "        for i in range(16):\n",
    "            if i < 4:  # Bottom side\n",
    "                t = i / 4\n",
    "                x_point = self.__x + t * self.__length\n",
    "                y_point = self.__y\n",
    "            elif i < 8:  # Right side\n",
    "                t = (i - 4) / 4\n",
    "                x_point = self.__x + self.__length\n",
    "                y_point = self.__y + t * self.__width\n",
    "            elif i < 12:  # Top side\n",
    "                t = (i - 8) / 4\n",
    "                x_point = self.__x + (1 - t) * self.__length\n",
    "                y_point = self.__y + self.__width\n",
    "            else:  # Left side\n",
    "                t = (i - 12) / 4\n",
    "                x_point = self.__x\n",
    "                y_point = self.__y + (1 - t) * self.__width\n",
    "            \n",
    "            points.append((x_point, y_point))\n",
    "        return points\n",
    "        \n",
    "class circle(Shape):\n",
    "    def __init__(self, radius, x, y):\n",
    "        self.__radius = radius\n",
    "        self.__x = x\n",
    "        self.__y = y\n",
    "\n",
    "    def area(self):\n",
    "        pi = 3.14  \n",
    "        return pi * self.__radius ** 2\n",
    "    def perimeter(self):\n",
    "        pi = 3.14\n",
    "        return 2 * pi * self.__radius\n",
    "    def get_x(self):\n",
    "        return self.__x\n",
    "    def get_y(self):\n",
    "        return self.__y\n",
    "    def get_radius(self):\n",
    "        return self.__radius\n",
    "    def get_perimeter_points(self):\n",
    "        points = []\n",
    "        for i in range(16):\n",
    "            angle = (i / 16) * 2 * pi  # Angle in radians\n",
    "            x_point = self.__x + self.__radius * cos(angle)\n",
    "            y_point = self.__y + self.__radius * sin(angle)\n",
    "            points.append((x_point, y_point))\n",
    "        return points\n",
    "\n",
    "class triangle(Shape):\n",
    "    def __init__(self, base, height, x, y):\n",
    "        self.__base = base   \n",
    "        self.__height = height  \n",
    "        self.__x = x      \n",
    "        self.__y = y            \n",
    "\n",
    "    def area(self):\n",
    "        return 0.5 * self.__base * self.__height\n",
    "    def perimeter(self):\n",
    "        # isosceles\n",
    "        side_length = ((self.__base / 2) ** 2 + self.__height ** 2) ** 0.5\n",
    "        return self.__base + 2 * side_length\n",
    "    def get_x(self):\n",
    "        return self.__x\n",
    "    def get_y(self):\n",
    "        return self.__y\n",
    "    def get_perimeter_points(self):\n",
    "        points = []\n",
    "        # Calculate the vertices\n",
    "        vertex_a = (self.__x, self.__y)  # Bottom-left vertex\n",
    "        vertex_b = (self.__x + self.__base, self.__y)  # Bottom-right vertex\n",
    "        vertex_c = (self.__x + self.__base / 2, self.__y + self.__height)  # Top vertex\n",
    "\n",
    "        # Generate points along each side\n",
    "        for i in range(16):\n",
    "            if i < 5:  # Points along side A-B\n",
    "                t = i / 5\n",
    "                x_point = vertex_a[0] + t * (vertex_b[0] - vertex_a[0])\n",
    "                y_point = vertex_a[1] + t * (vertex_b[1] - vertex_a[1])\n",
    "                points.append((x_point, y_point))\n",
    "            elif i < 10:  # Points along side B-C\n",
    "                t = (i - 5) / 5\n",
    "                x_point = vertex_b[0] + t * (vertex_c[0] - vertex_b[0])\n",
    "                y_point = vertex_b[1] + t * (vertex_c[1] - vertex_b[1])\n",
    "                points.append((x_point, y_point))\n",
    "            else:  # Points along side C-A\n",
    "                t = (i - 10) / 5\n",
    "                x_point = vertex_c[0] + t * (vertex_a[0] - vertex_c[0])\n",
    "                y_point = vertex_c[1] + t * (vertex_a[1] - vertex_c[1])\n",
    "                points.append((x_point, y_point))\n",
    "        return points"
   ]
  },
  {
   "cell_type": "code",
   "execution_count": 31,
   "metadata": {},
   "outputs": [
    {
     "name": "stdout",
     "output_type": "stream",
     "text": [
      "Triangle Area: 150.0\n",
      "Triangle Perimeter: 56.05551275463989\n",
      "Triangle Perimeter Points: [(0.0, 0.0), (4.0, 0.0), (8.0, 0.0), (12.0, 0.0), (16.0, 0.0), (20.0, 0.0), (18.0, 3.0), (16.0, 6.0), (14.0, 9.0), (12.0, 12.0), (10.0, 15.0), (8.0, 12.0), (6.0, 9.0), (4.0, 6.0), (2.0, 3.0), (0.0, 0.0)]\n"
     ]
    }
   ],
   "source": [
    "triangle = triangle(20, 15, x=0, y=0)\n",
    "print(\"Triangle Area:\", triangle.area())  \n",
    "print(\"Triangle Perimeter:\", triangle.perimeter())  \n",
    "print(\"Triangle Perimeter Points:\", triangle.get_perimeter_points())  "
   ]
  },
  {
   "cell_type": "code",
   "execution_count": 32,
   "metadata": {},
   "outputs": [
    {
     "name": "stdout",
     "output_type": "stream",
     "text": [
      "Circle Area: 113.04\n",
      "Circle Perimeter: 37.68\n",
      "Circle Perimeter Points: [(7.0, 1.0), (6.54327719506772, 3.2961005941905386), (5.242640687119286, 5.242640687119285), (3.296100594190539, 6.54327719506772), (1.0000000000000004, 7.0), (-1.2961005941905386, 6.54327719506772), (-3.2426406871192848, 5.242640687119286), (-4.54327719506772, 3.2961005941905395), (-5.0, 1.0000000000000007), (-4.543277195067721, -1.2961005941905381), (-3.2426406871192857, -3.2426406871192848), (-1.2961005941905421, -4.543277195067719), (0.9999999999999989, -5.0), (3.29610059419054, -4.54327719506772), (5.242640687119284, -3.2426406871192857), (6.543277195067719, -1.2961005941905421)]\n"
     ]
    }
   ],
   "source": [
    "circle = circle(6, 1, 1)\n",
    "print(\"Circle Area:\", circle.area())  \n",
    "print(\"Circle Perimeter:\", circle.perimeter())  \n",
    "print(\"Circle Perimeter Points:\", circle.get_perimeter_points())  \n"
   ]
  },
  {
   "cell_type": "markdown",
   "metadata": {},
   "source": [
    "8. Add a function to the object classes, including the base, that tests if a given set of $x$ and $y$ coordinates are inside of the object. You'll have to think through how to determine if a set of coordinates are inside an object for each object type."
   ]
  },
  {
   "cell_type": "code",
   "execution_count": 44,
   "metadata": {},
   "outputs": [],
   "source": [
    "class shape:\n",
    "    def __init__(self):\n",
    "        pass\n",
    "    # A method that can be overridden by each subclass\n",
    "    def inside_point(self, x, y):\n",
    "        return False  # Generic method returns False since it's not implemented\n",
    "\n",
    "class rectangle(shape):\n",
    "    def __init__(self, length, width, x, y):\n",
    "        self.__length = length\n",
    "        self.__width = width\n",
    "        self.__x = x\n",
    "        self.__y = y\n",
    "\n",
    "    def area(self):\n",
    "        return self.__length * self.__width\n",
    "    def perimeter(self):\n",
    "        return 2 * (self.__length + self.__width)\n",
    "    # Override the inside point method for rectangles\n",
    "    def inside_point(self, x, y):\n",
    "        return (self.__x <= x <= self.__x + self.__length) and (self.__y <= y <= self.__y + self.__width)\n",
    "\n",
    "class circle(shape):\n",
    "    def __init__(self, radius, x, y):\n",
    "        self.__radius = radius\n",
    "        self.__x = x\n",
    "        self.__y = y\n",
    "\n",
    "    def area(self):\n",
    "        pi = 3.14  \n",
    "        return pi * self.__radius ** 2\n",
    "    def perimeter(self):\n",
    "        pi = 3.14\n",
    "        return 2 * pi * self.__radius\n",
    "    # Override the inside point method for circles\n",
    "    def inside_point(self, x, y):\n",
    "        from math import sqrt\n",
    "        distance = sqrt((x - self.__x) ** 2 + (y - self.__y) ** 2)\n",
    "        return distance <= self.__radius\n",
    "        \n",
    "class triangle(shape):\n",
    "    def __init__(self, base, height, x, y):\n",
    "        self.__base = base\n",
    "        self.__height = height\n",
    "        self.__x = x  # x and y of the bottom-left vertex\n",
    "        self.__y = y\n",
    "\n",
    "    def area(self):\n",
    "        return 0.5 * self.__base * self.__height\n",
    "    def perimeter(self):\n",
    "        side_length = ((self.__base / 2) ** 2 + self.__height ** 2) ** 0.5\n",
    "        return self.__base + 2 * side_length\n",
    "    # Overriinside method for triangles\n",
    "    def inside_point(self, x, y):\n",
    "        # Verticessssssssssss\n",
    "        v1 = (self.__x, self.__y)\n",
    "        v2 = (self.__x + self.__base, self.__y)\n",
    "        v3 = (self.__x + self.__base / 2, self.__y + self.__height)\n",
    "        # 3 points\n",
    "        def triangle_area(p1, p2, p3):\n",
    "            return abs((p1[0] * (p2[1] - p3[1]) + p2[0] * (p3[1] - p1[1]) + p3[0] * (p1[1] - p2[1])) / 2.0)\n",
    "        #\n",
    "        total_area = triangle_area(v1, v2, v3)\n",
    "        # Area of the sub-triangles formed by the point (x, y) and the vertices of the triangle\n",
    "        area1 = triangle_area((x, y), v2, v3)\n",
    "        area2 = triangle_area(v1, (x, y), v3)\n",
    "        area3 = triangle_area(v1, v2, (x, y))\n",
    "\n",
    "        return abs(total_area - (area1 + area2 + area3)) < 1e-5"
   ]
  },
  {
   "cell_type": "code",
   "execution_count": 45,
   "metadata": {},
   "outputs": [
    {
     "name": "stdout",
     "output_type": "stream",
     "text": [
      "Triangle contains point (10, 7): True\n",
      "Triangle contains point (20, 20): False\n"
     ]
    }
   ],
   "source": [
    "triangle = triangle(20, 15, 3, 6)\n",
    "print(\"Triangle contains point (10, 7):\", triangle.inside_point(10, 7)) \n",
    "print(\"Triangle contains point (20, 20):\", triangle.inside_point(20, 20))"
   ]
  },
  {
   "cell_type": "markdown",
   "metadata": {},
   "source": [
    "9. Add a function in the base class of the object classes that returns true/false testing that the object overlaps with another object."
   ]
  },
  {
   "cell_type": "code",
   "execution_count": 58,
   "metadata": {},
   "outputs": [],
   "source": [
    "class shape:\n",
    "    def __init__(self, x, y):\n",
    "        self._x = x  \n",
    "        self._y = y\n",
    "    # A method that can be overridden by each subclass\n",
    "    def inside_point(self, x, y):\n",
    "        return False  # Generic method returns False \n",
    "    def overlaps(self, other):\n",
    "        return False\n",
    "class rectangle(shape):\n",
    "    def __init__(self, length, width, x, y):\n",
    "        super().__init__(x, y)\n",
    "        self._length = length\n",
    "        self._width = width\n",
    "\n",
    "    def overlaps(self, other):\n",
    "        if isinstance(other, Rectangle):\n",
    "            return not (self._x + self._length < other._x or\n",
    "                        self._x > other._x + other._length or\n",
    "                        self._y + self._width < other._y or\n",
    "                        self._y > other._y + other._width)\n",
    "       # add Circle & Triangl\n",
    "        return False"
   ]
  },
  {
   "cell_type": "code",
   "execution_count": 59,
   "metadata": {},
   "outputs": [
    {
     "name": "stdout",
     "output_type": "stream",
     "text": [
      "Do the rectangles overlap? False\n"
     ]
    }
   ],
   "source": [
    "rec1 = rectangle(5, 4, 1, 1)\n",
    "rec2 = rectangle(3, 2, 4, 3)\n",
    "\n",
    "print(\"Do the rectangles overlap?\", rect1.overlaps(rect2)) "
   ]
  },
  {
   "cell_type": "markdown",
   "metadata": {},
   "source": [
    "10. Copy the `Canvas` class from lecture to in a python file creating a `paint` module. Copy your classes from above into the module and implement paint functions. Implement a `CompoundShape` class. Create a simple drawing demonstrating that all of your classes are working."
   ]
  },
  {
   "cell_type": "code",
   "execution_count": 60,
   "metadata": {},
   "outputs": [],
   "source": [
    "class Canvas:\n",
    "    def __init__(self, width, height):\n",
    "        self.width = width\n",
    "        self.height = height\n",
    "        self.data = [[' '] * width for i in range(height)]  # Empty canvas\n",
    "\n",
    "    def set_pixel(self, row, col, char='*'):\n",
    "        if 0 <= row < self.height and 0 <= col < self.width:\n",
    "            self.data[row][col] = char\n",
    "\n",
    "    def get_pixel(self, row, col):\n",
    "        return self.data[row][col]\n",
    "    \n",
    "    def clear_canvas(self):\n",
    "        self.data = [[' '] * self.width for i in range(self.height)]\n",
    "    \n",
    "    def v_line(self, x, y, w, char='*'):\n",
    "        for i in range(x, x + w):\n",
    "            self.set_pixel(i, y, char)\n",
    "\n",
    "    def h_line(self, x, y, h, char='*'):\n",
    "        for i in range(y, y + h):\n",
    "            self.set_pixel(x, i, char)\n",
    "    \n",
    "    def display(self):\n",
    "        print(\"\\n\".join([\"\".join(row) for row in self.data]))\n",
    "\n",
    "# Base Shape\n",
    "class Shape:\n",
    "    def __init__(self, x, y):\n",
    "        self._x = x\n",
    "        self._y = y\n",
    "    def inside_point(self, x, y):\n",
    "        return False\n",
    "    def overlaps(self, other):\n",
    "        return False \n",
    "    def draw(self, canvas):\n",
    "        pass  # To be implemented by subclasses\n",
    "\n",
    "class Rectangle(Shape):\n",
    "    def __init__(self, length, width, x, y):\n",
    "        super().__init__(x, y)\n",
    "        self._length = length\n",
    "        self._width = width\n",
    "\n",
    "    def draw(self, canvas):\n",
    "        canvas.h_line(self._x, self._y, self._width)\n",
    "        canvas.h_line(self._x + self._length - 1, self._y, self._width)\n",
    "        canvas.v_line(self._x, self._y, self._length)\n",
    "        canvas.v_line(self._x, self._y + self._width - 1, self._length)\n",
    "\n",
    "class Circle(Shape):\n",
    "    def __init__(self, radius, x, y):\n",
    "        super().__init__(x, y)\n",
    "        self._radius = radius\n",
    "\n",
    "    def draw(self, canvas):\n",
    "        for i in range(-self._radius, self._radius):\n",
    "            for j in range(-self._radius, self._radius):\n",
    "                if i * i + j * j <= self._radius * self._radius:\n",
    "                    canvas.set_pixel(self._x + i, self._y + j, char='o')\n",
    "\n",
    "class Triangle(Shape):\n",
    "    def __init__(self, base, height, x, y):\n",
    "        super().__init__(x, y)\n",
    "        self._base = base\n",
    "        self._height = height\n",
    "\n",
    "    def draw(self, canvas):\n",
    "        for i in range(self._height):\n",
    "            for j in range(i + 1):\n",
    "                canvas.set_pixel(self._x + i, self._y + j, char='^')\n",
    "\n",
    "# CompoundShape class (holds several shapes)\n",
    "class CompoundShape(Shape):\n",
    "    def __init__(self):\n",
    "        self.shapes = []\n",
    "\n",
    "    def add_shape(self, shape):\n",
    "        self.shapes.append(shape)\n",
    "    def draw(self, canvas):\n",
    "        for shape in self.shapes:\n",
    "            shape.draw(canvas)\n"
   ]
  },
  {
   "cell_type": "code",
   "execution_count": 63,
   "metadata": {},
   "outputs": [
    {
     "name": "stdout",
     "output_type": "stream",
     "text": [
      "                    \n",
      " *******            \n",
      " *     *            \n",
      " *     *            \n",
      " *     *            \n",
      " *******            \n",
      "                    \n",
      "          o         \n",
      "         ooo        \n",
      "        oooo        \n",
      "         ooo        \n",
      "                    \n",
      "                    \n",
      "                    \n",
      "  ^                 \n",
      "  ^^                \n",
      "  ^^^               \n",
      "  ^^^^              \n",
      "  ^^^^^             \n",
      "                    \n"
     ]
    }
   ],
   "source": [
    "canvas = Canvas(20, 20)\n",
    "\n",
    "    # Create shapes\n",
    "rect = Rectangle(5, 7, 1, 1) \n",
    "circ = Circle(2, 9, 10)      \n",
    "tri = Triangle(5, 5, 14, 2)   \n",
    "\n",
    "compound = CompoundShape()\n",
    "compound.add_shape(rect)\n",
    "compound.add_shape(circ)\n",
    "compound.add_shape(tri)\n",
    "\n",
    "compound.draw(canvas)\n",
    "canvas.display()\n"
   ]
  },
  {
   "cell_type": "markdown",
   "metadata": {},
   "source": [
    "11. Create a `RasterDrawing` class. Demonstrate that you can create a drawing made of several shapes, paint the drawing, modify the drawing, and paint it again. "
   ]
  },
  {
   "cell_type": "code",
   "execution_count": 64,
   "metadata": {},
   "outputs": [
    {
     "name": "stdout",
     "output_type": "stream",
     "text": [
      "Initial Drawing:\n",
      "                    \n",
      "                    \n",
      "  ***               \n",
      "  ***               \n",
      "  ***               \n",
      "  ***               \n",
      "  ***     o         \n",
      "        ooooo       \n",
      "       oo   oo      \n",
      "       o     o      \n",
      "      oo     oo     \n",
      "       o     o      \n",
      "       oo   oo      \n",
      "        ooooo       \n",
      "          o         \n",
      "                    \n",
      "                    \n",
      "                    \n",
      "                    \n",
      "                    \n",
      "Modified Drawing:\n",
      "                    \n",
      "                    \n",
      "                    \n",
      "                    \n",
      "                    \n",
      "     ***            \n",
      "     ***  o         \n",
      "     ***ooooo       \n",
      "     ***o   oo      \n",
      "     ***     o      \n",
      "      oo     oo     \n",
      "       o     o      \n",
      "       oo   oo      \n",
      "        ooooo       \n",
      "          o         \n",
      "                    \n",
      "                    \n",
      "                    \n",
      "                    \n",
      "                    \n"
     ]
    }
   ],
   "source": [
    "import math\n",
    "\n",
    "class Shape:\n",
    "    def __init__(self, x, y):\n",
    "        self._x = x \n",
    "        self._y = y \n",
    "\n",
    "    def overlaps(self, other):\n",
    "        return False \n",
    "    def inside_point(self, x, y):\n",
    "        return False  \n",
    "    def draw(self, canvas):\n",
    "        pass\n",
    "\n",
    "class Rectangle(Shape):\n",
    "    def __init__(self, length, width, x, y):\n",
    "        super().__init__(x, y)\n",
    "        self._length = length\n",
    "        self._width = width\n",
    "\n",
    "    def draw(self, canvas):\n",
    "        for i in range(self._x, self._x + self._length):\n",
    "            for j in range(self._y, self._y + self._width):\n",
    "                canvas.set_pixel(i, j, char='*')\n",
    "    def inside_point(self, x, y):\n",
    "        return (self._x <= x < self._x + self._length) and (self._y <= y < self._y + self._width)\n",
    "\n",
    "class Circle(Shape):\n",
    "    def __init__(self, radius, x, y):\n",
    "        super().__init__(x, y)\n",
    "        self._radius = radius\n",
    "\n",
    "    def draw(self, canvas):\n",
    "        for angle in range(0, 360):\n",
    "            rad = math.radians(angle)\n",
    "            x_offset = int(self._radius * math.cos(rad))\n",
    "            y_offset = int(self._radius * math.sin(rad))\n",
    "            canvas.set_pixel(self._x + x_offset, self._y + y_offset, char='o')\n",
    "\n",
    "    def inside_point(self, x, y):\n",
    "        return (x - self._x) ** 2 + (y - self._y) ** 2 <= self._radius ** 2\n",
    "\n",
    "class RasterDrawing:\n",
    "    def __init__(self):\n",
    "        self.shapes = []  # List to store shapes\n",
    "\n",
    "    def add_shape(self, shape):\n",
    "        self.shapes.append(shape)\n",
    "\n",
    "    def remove_shape(self, shape):\n",
    "        self.shapes.remove(shape)\n",
    "\n",
    "    def draw(self, canvas):\n",
    "        for shape in self.shapes:\n",
    "            shape.draw(canvas)\n",
    "\n",
    "class Canvas:\n",
    "    def __init__(self, width, height):\n",
    "        self.width = width\n",
    "        self.height = height\n",
    "        self.data = [[' '] * width for _ in range(height)]\n",
    "\n",
    "    def set_pixel(self, row, col, char='*'):\n",
    "        if 0 <= row < self.height and 0 <= col < self.width:\n",
    "            self.data[row][col] = char\n",
    "\n",
    "    def clear_canvas(self):\n",
    "        self.data = [[' '] * self.width for _ in range(self.height)]\n",
    "\n",
    "    def display(self):\n",
    "        print(\"\\n\".join([\"\".join(row) for row in self.data]))\n",
    "\n",
    "\n",
    "canvas = Canvas(20, 20)\n",
    "drawing = RasterDrawing()\n",
    "\n",
    "rect = Rectangle(5, 3, 2, 2)\n",
    "circ = Circle(4, 10, 10)\n",
    "\n",
    "# Add shapes \n",
    "drawing.add_shape(rect)\n",
    "drawing.add_shape(circ)\n",
    "\n",
    "# Draw the initial shapes\n",
    "print(\"Initial Drawing:\")\n",
    "drawing.draw(canvas)\n",
    "canvas.display()\n",
    "\n",
    "# Modifyyyyyyyyyyyyy\n",
    "drawing.remove_shape(rect)  # Remove the original \n",
    "rect = Rectangle(5, 3, 5, 5)  #\n",
    "drawing.add_shape(rect)  # Add the new rectangle\n",
    "\n",
    "canvas.clear_canvas()\n",
    "print(\"Modified Drawing:\")\n",
    "drawing.draw(canvas)\n",
    "canvas.display()\n"
   ]
  },
  {
   "cell_type": "markdown",
   "metadata": {},
   "source": [
    "12. Implement the ability to load/save raster drawings and demonstate that your method works. One way to implement this ability:\n",
    "\n",
    "   * Overload `__repr__` functions of all objects to return strings of the python code that would construct the object.\n",
    "   \n",
    "   * In the save method of raster drawing class, store the representations into the file.\n",
    "   * Write a loader function that reads the file and uses `eval` to instantiate the object.\n",
    "\n",
    "For example:"
   ]
  },
  {
   "cell_type": "code",
   "execution_count": 65,
   "metadata": {},
   "outputs": [],
   "source": [
    "class foo:\n",
    "    def __init__(self,a,b=None):\n",
    "        self.a=a\n",
    "        self.b=b\n",
    "        \n",
    "    def __repr__(self):\n",
    "        return \"foo(\"+repr(self.a)+\",\"+repr(self.b)+\")\"\n",
    "    \n",
    "    def save(self,filename):\n",
    "        f=open(filename,\"w\")\n",
    "        f.write(self.__repr__())\n",
    "        f.close()\n",
    "        \n",
    "   \n",
    "def foo_loader(filename):\n",
    "    f=open(filename,\"r\")\n",
    "    tmp=eval(f.read())\n",
    "    f.close()\n",
    "    return tmp\n"
   ]
  },
  {
   "cell_type": "code",
   "execution_count": 66,
   "metadata": {},
   "outputs": [
    {
     "name": "stdout",
     "output_type": "stream",
     "text": [
      "foo(1,'hello')\n"
     ]
    }
   ],
   "source": [
    "# Test\n",
    "print(repr(foo(1,\"hello\")))"
   ]
  },
  {
   "cell_type": "code",
   "execution_count": 67,
   "metadata": {},
   "outputs": [],
   "source": [
    "# Create an object and save it\n",
    "ff=foo(1,\"hello\")\n",
    "ff.save(\"Test.foo\")"
   ]
  },
  {
   "cell_type": "code",
   "execution_count": 68,
   "metadata": {},
   "outputs": [
    {
     "name": "stdout",
     "output_type": "stream",
     "text": [
      "foo(1,'hello')"
     ]
    }
   ],
   "source": [
    "# Check contents of the saved file\n",
    "!cat Test.foo"
   ]
  },
  {
   "cell_type": "code",
   "execution_count": 69,
   "metadata": {},
   "outputs": [
    {
     "data": {
      "text/plain": [
       "foo(1,'hello')"
      ]
     },
     "execution_count": 69,
     "metadata": {},
     "output_type": "execute_result"
    }
   ],
   "source": [
    "# Load the object\n",
    "ff_reloaded=foo_loader(\"Test.foo\")\n",
    "ff_reloaded"
   ]
  },
  {
   "cell_type": "code",
   "execution_count": null,
   "metadata": {},
   "outputs": [],
   "source": []
  },
  {
   "cell_type": "code",
   "execution_count": null,
   "metadata": {},
   "outputs": [],
   "source": []
  }
 ],
 "metadata": {
  "kernelspec": {
   "display_name": "Python 3 (ipykernel)",
   "language": "python",
   "name": "python3"
  },
  "language_info": {
   "codemirror_mode": {
    "name": "ipython",
    "version": 3
   },
   "file_extension": ".py",
   "mimetype": "text/x-python",
   "name": "python",
   "nbconvert_exporter": "python",
   "pygments_lexer": "ipython3",
   "version": "3.12.3"
  }
 },
 "nbformat": 4,
 "nbformat_minor": 4
}
